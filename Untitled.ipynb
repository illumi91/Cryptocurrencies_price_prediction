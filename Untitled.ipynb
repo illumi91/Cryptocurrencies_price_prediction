{
 "cells": [
  {
   "cell_type": "markdown",
   "metadata": {},
   "source": [
    "# Capstone Project Luigi Fiori"
   ]
  },
  {
   "cell_type": "code",
   "execution_count": 1,
   "metadata": {},
   "outputs": [],
   "source": [
    "import requests \n",
    "import json\n",
    "import decimal\n",
    "import hmac\n",
    "import time\n",
    "import pandas as pd\n",
    "import matplotlib.pyplot as plt\n",
    "from matplotlib import style\n",
    "%matplotlib inline\n",
    "import mplfinance as mpf\n",
    "from mpl_finance import candlestick_ohlc\n",
    "import matplotlib.dates as mdates\n",
    "import numpy as np\n",
    "style.use('ggplot')\n",
    "from statsmodels.tsa.arima_model import ARIMA\n",
    "from sklearn.metrics import mean_squared_error\n",
    "import warnings\n",
    "import pmdarima as pm"
   ]
  },
  {
   "cell_type": "code",
   "execution_count": 2,
   "metadata": {},
   "outputs": [],
   "source": [
    "def get_keys(path):\n",
    "    with open(path) as f:\n",
    "        return json.load(f)"
   ]
  },
  {
   "cell_type": "code",
   "execution_count": 3,
   "metadata": {},
   "outputs": [],
   "source": [
    "keys = get_keys(\"/Users/luigi/.secret/bc_api.json\")\n",
    "\n",
    "api_key = keys['api_key']\n",
    "secret_key = keys['secret_key']"
   ]
  },
  {
   "cell_type": "code",
   "execution_count": 4,
   "metadata": {},
   "outputs": [],
   "source": [
    "binance_keys = {\n",
    "    'api_key': api_key,\n",
    "    'secret_key': secret_key\n",
    "}"
   ]
  },
  {
   "cell_type": "markdown",
   "metadata": {},
   "source": [
    "# Get All Trading(currently) Symbols"
   ]
  },
  {
   "cell_type": "code",
   "execution_count": 5,
   "metadata": {},
   "outputs": [],
   "source": [
    "response = requests.get('https://api.binance.com' + '/api/v1/exchangeInfo')"
   ]
  },
  {
   "cell_type": "code",
   "execution_count": 6,
   "metadata": {},
   "outputs": [],
   "source": [
    "data_symbols = json.loads(response.text)"
   ]
  },
  {
   "cell_type": "code",
   "execution_count": 7,
   "metadata": {},
   "outputs": [
    {
     "name": "stdout",
     "output_type": "stream",
     "text": [
      "['ETHBTC', 'LTCBTC', 'BNBBTC', 'NEOBTC', 'QTUMETH', 'EOSETH', 'SNTETH', 'BNTETH', 'GASBTC', 'BNBETH', 'BTCUSDT', 'ETHUSDT', 'OAXETH', 'DNTETH', 'MCOETH', 'MCOBTC', 'WTCBTC', 'WTCETH', 'LRCBTC', 'LRCETH', 'QTUMBTC', 'YOYOBTC', 'OMGBTC', 'OMGETH', 'ZRXBTC', 'ZRXETH', 'STRATBTC', 'STRATETH', 'SNGLSBTC', 'BQXBTC', 'BQXETH', 'KNCBTC', 'KNCETH', 'FUNBTC', 'FUNETH', 'SNMBTC', 'SNMETH', 'NEOETH', 'IOTABTC', 'IOTAETH', 'LINKBTC', 'LINKETH', 'XVGBTC', 'XVGETH', 'MDABTC', 'MDAETH', 'MTLBTC', 'MTLETH', 'EOSBTC', 'SNTBTC', 'ETCETH', 'ETCBTC', 'MTHBTC', 'MTHETH', 'ENGBTC', 'ENGETH', 'DNTBTC', 'ZECBTC', 'ZECETH', 'BNTBTC', 'ASTBTC', 'ASTETH', 'DASHBTC', 'DASHETH', 'OAXBTC', 'BTGBTC', 'BTGETH', 'EVXBTC', 'EVXETH', 'REQBTC', 'REQETH', 'VIBBTC', 'VIBETH', 'TRXBTC', 'TRXETH', 'POWRBTC', 'POWRETH', 'ARKBTC', 'ARKETH', 'YOYOETH', 'XRPBTC', 'XRPETH', 'ENJBTC', 'ENJETH', 'STORJBTC', 'STORJETH', 'BNBUSDT', 'YOYOBNB', 'POWRBNB', 'KMDBTC', 'KMDETH', 'NULSBNB', 'RCNBTC', 'RCNETH', 'RCNBNB', 'NULSBTC', 'NULSETH', 'RDNBTC', 'RDNETH', 'RDNBNB', 'XMRBTC', 'XMRETH', 'DLTBNB', 'WTCBNB', 'DLTBTC', 'DLTETH', 'AMBBTC', 'AMBETH', 'AMBBNB', 'BATBTC', 'BATETH', 'BATBNB', 'BCPTBTC', 'BCPTETH', 'BCPTBNB', 'ARNBTC', 'ARNETH', 'GVTBTC', 'GVTETH', 'CDTBTC', 'CDTETH', 'GXSBTC', 'GXSETH', 'NEOUSDT', 'NEOBNB', 'POEBTC', 'POEETH', 'QSPBTC', 'QSPETH', 'QSPBNB', 'BTSBTC', 'BTSETH', 'XZCBTC', 'XZCETH', 'XZCBNB', 'LSKBTC', 'LSKETH', 'LSKBNB', 'TNTBTC', 'TNTETH', 'FUELBTC', 'MANABTC', 'MANAETH', 'BCDBTC', 'BCDETH', 'DGDBTC', 'DGDETH', 'IOTABNB', 'ADXBTC', 'ADXETH', 'ADABTC', 'ADAETH', 'PPTBTC', 'PPTETH', 'CMTBTC', 'CMTETH', 'CMTBNB', 'XLMBTC', 'XLMETH', 'XLMBNB', 'CNDBTC', 'CNDETH', 'CNDBNB', 'LENDBTC', 'LENDETH', 'WABIBTC', 'WABIETH', 'WABIBNB', 'LTCETH', 'LTCUSDT', 'LTCBNB', 'TNBBTC', 'TNBETH', 'WAVESBTC', 'WAVESETH', 'WAVESBNB', 'GTOBTC', 'GTOETH', 'GTOBNB', 'ICXBTC', 'ICXETH', 'ICXBNB', 'OSTBTC', 'OSTETH', 'OSTBNB', 'ELFBTC', 'ELFETH', 'AIONBTC', 'AIONETH', 'AIONBNB', 'NEBLBTC', 'NEBLETH', 'NEBLBNB', 'BRDBTC', 'BRDETH', 'BRDBNB', 'MCOBNB', 'EDOBTC', 'EDOETH', 'NAVBTC', 'LUNBTC', 'APPCBTC', 'APPCETH', 'APPCBNB', 'VIBEBTC', 'VIBEETH', 'RLCBTC', 'RLCETH', 'RLCBNB', 'INSBTC', 'INSETH', 'PIVXBTC', 'PIVXETH', 'PIVXBNB', 'IOSTBTC', 'IOSTETH', 'STEEMBTC', 'STEEMETH', 'STEEMBNB', 'NANOBTC', 'NANOETH', 'NANOBNB', 'VIABTC', 'VIAETH', 'VIABNB', 'BLZBTC', 'BLZETH', 'BLZBNB', 'AEBTC', 'AEETH', 'AEBNB', 'NCASHBTC', 'NCASHETH', 'POABTC', 'POAETH', 'ZILBTC', 'ZILETH', 'ZILBNB', 'ONTBTC', 'ONTETH', 'ONTBNB', 'STORMBTC', 'STORMETH', 'STORMBNB', 'QTUMBNB', 'QTUMUSDT', 'XEMBTC', 'XEMETH', 'XEMBNB', 'WANBTC', 'WANETH', 'WANBNB', 'WPRBTC', 'WPRETH', 'QLCBTC', 'QLCETH', 'SYSBTC', 'SYSETH', 'GRSBTC', 'GRSETH', 'ADAUSDT', 'ADABNB', 'GNTBTC', 'GNTETH', 'LOOMBTC', 'LOOMETH', 'LOOMBNB', 'XRPUSDT', 'REPBTC', 'REPETH', 'BTCTUSD', 'ETHTUSD', 'ZENBTC', 'ZENETH', 'ZENBNB', 'SKYBTC', 'SKYETH', 'SKYBNB', 'EOSUSDT', 'EOSBNB', 'CVCBTC', 'CVCETH', 'THETABTC', 'THETAETH', 'THETABNB', 'XRPBNB', 'TUSDUSDT', 'IOTAUSDT', 'XLMUSDT', 'IOTXBTC', 'IOTXETH', 'QKCBTC', 'QKCETH', 'AGIBTC', 'AGIETH', 'AGIBNB', 'NXSBTC', 'NXSETH', 'NXSBNB', 'ENJBNB', 'DATABTC', 'DATAETH', 'ONTUSDT', 'TRXBNB', 'TRXUSDT', 'ETCUSDT', 'ETCBNB', 'ICXUSDT', 'SCBTC', 'SCETH', 'SCBNB', 'NPXSETH', 'KEYBTC', 'KEYETH', 'NASBTC', 'NASETH', 'NASBNB', 'MFTBTC', 'MFTETH', 'MFTBNB', 'DENTETH', 'ARDRBTC', 'ARDRETH', 'NULSUSDT', 'HOTBTC', 'HOTETH', 'VETBTC', 'VETETH', 'VETUSDT', 'VETBNB', 'DOCKBTC', 'DOCKETH', 'POLYBTC', 'POLYBNB', 'HCBTC', 'HCETH', 'GOBTC', 'GOBNB', 'PAXUSDT', 'RVNBTC', 'RVNBNB', 'DCRBTC', 'DCRBNB', 'MITHBTC', 'MITHBNB', 'BNBPAX', 'BTCPAX', 'ETHPAX', 'XRPPAX', 'EOSPAX', 'XLMPAX', 'RENBTC', 'RENBNB', 'BNBTUSD', 'XRPTUSD', 'EOSTUSD', 'XLMTUSD', 'BNBUSDC', 'BTCUSDC', 'ETHUSDC', 'XRPUSDC', 'EOSUSDC', 'USDCUSDT', 'ADATUSD', 'TRXTUSD', 'NEOTUSD', 'TRXXRP', 'XZCXRP', 'PAXTUSD', 'USDCTUSD', 'USDCPAX', 'LINKUSDT', 'LINKTUSD', 'LINKPAX', 'LINKUSDC', 'WAVESUSDT', 'WAVESTUSD', 'WAVESUSDC', 'LTCTUSD', 'LTCPAX', 'LTCUSDC', 'TRXPAX', 'TRXUSDC', 'BTTBNB', 'BTTUSDT', 'BNBUSDS', 'BTCUSDS', 'USDSUSDT', 'BTTPAX', 'BTTTUSD', 'BTTUSDC', 'ONGBNB', 'ONGBTC', 'ONGUSDT', 'HOTBNB', 'HOTUSDT', 'ZILUSDT', 'ZRXBNB', 'ZRXUSDT', 'FETBNB', 'FETBTC', 'FETUSDT', 'BATUSDT', 'XMRBNB', 'XMRUSDT', 'ZECBNB', 'ZECUSDT', 'ZECPAX', 'ZECTUSD', 'ZECUSDC', 'IOSTBNB', 'IOSTUSDT', 'CELRBNB', 'CELRBTC', 'CELRUSDT', 'ADAPAX', 'ADAUSDC', 'NEOPAX', 'NEOUSDC', 'DASHBNB', 'DASHUSDT', 'NANOUSDT', 'OMGBNB', 'OMGUSDT', 'THETAUSDT', 'ENJUSDT', 'MITHUSDT', 'MATICBNB', 'MATICBTC', 'MATICUSDT', 'ATOMBNB', 'ATOMBTC', 'ATOMUSDT', 'ATOMUSDC', 'ATOMTUSD', 'BATUSDC', 'BATPAX', 'BATTUSD', 'PHBBNB', 'PHBBTC', 'PHBTUSD', 'TFUELBNB', 'TFUELBTC', 'TFUELUSDT', 'ONEBNB', 'ONEBTC', 'ONEUSDT', 'ONEUSDC', 'FTMBNB', 'FTMBTC', 'FTMUSDT', 'ALGOBNB', 'ALGOBTC', 'ALGOUSDT', 'ALGOTUSD', 'ALGOPAX', 'GTOUSDT', 'ERDBNB', 'ERDBTC', 'ERDUSDT', 'DOGEBNB', 'DOGEBTC', 'DOGEUSDT', 'DUSKBNB', 'DUSKBTC', 'DUSKUSDT', 'DUSKUSDC', 'DUSKPAX', 'BGBPUSDC', 'ANKRBNB', 'ANKRBTC', 'ANKRUSDT', 'ONTPAX', 'WINBNB', 'WINUSDT', 'WINUSDC', 'COSBNB', 'COSBTC', 'COSUSDT', 'NPXSUSDT', 'COCOSBNB', 'COCOSBTC', 'COCOSUSDT', 'MTLUSDT', 'TOMOBNB', 'TOMOBTC', 'TOMOUSDT', 'TOMOUSDC', 'PERLBNB', 'PERLBTC', 'PERLUSDT', 'DENTUSDT', 'MFTUSDT', 'KEYUSDT', 'STORMUSDT', 'DOCKUSDT', 'WANUSDT', 'FUNUSDT', 'CVCUSDT', 'BTTTRX', 'WINTRX', 'CHZBNB', 'CHZBTC', 'CHZUSDT', 'BANDBNB', 'BANDBTC', 'BANDUSDT', 'BNBBUSD', 'BTCBUSD', 'BUSDUSDT', 'BEAMBNB', 'BEAMBTC', 'BEAMUSDT', 'XTZBNB', 'XTZBTC', 'XTZUSDT', 'RENUSDT', 'RVNUSDT', 'HCUSDT', 'HBARBNB', 'HBARBTC', 'HBARUSDT', 'NKNBNB', 'NKNBTC', 'NKNUSDT', 'XRPBUSD', 'ETHBUSD', 'LTCBUSD', 'LINKBUSD', 'ETCBUSD', 'STXBNB', 'STXBTC', 'STXUSDT', 'KAVABNB', 'KAVABTC', 'KAVAUSDT', 'BUSDNGN', 'BNBNGN', 'BTCNGN', 'ARPABNB', 'ARPABTC', 'ARPAUSDT', 'TRXBUSD', 'EOSBUSD', 'IOTXUSDT', 'RLCUSDT', 'MCOUSDT', 'XLMBUSD', 'ADABUSD', 'CTXCBNB', 'CTXCBTC', 'CTXCUSDT', 'BCHBNB', 'BCHBTC', 'BCHUSDT', 'BCHUSDC', 'BCHTUSD', 'BCHPAX', 'BCHBUSD', 'BTCRUB', 'ETHRUB', 'XRPRUB', 'BNBRUB', 'TROYBNB', 'TROYBTC', 'TROYUSDT', 'BUSDRUB', 'QTUMBUSD', 'VETBUSD', 'VITEBNB', 'VITEBTC', 'VITEUSDT', 'FTTBNB', 'FTTBTC', 'FTTUSDT', 'BTCTRY', 'BNBTRY', 'BUSDTRY', 'ETHTRY', 'XRPTRY', 'USDTTRY', 'USDTRUB', 'BTCEUR', 'ETHEUR', 'BNBEUR', 'XRPEUR', 'EURBUSD', 'EURUSDT', 'OGNBNB', 'OGNBTC', 'OGNUSDT', 'DREPBNB', 'DREPBTC', 'DREPUSDT', 'BULLUSDT', 'BULLBUSD', 'BEARUSDT', 'BEARBUSD', 'ETHBULLUSDT', 'ETHBULLBUSD', 'ETHBEARUSDT', 'ETHBEARBUSD', 'TCTBNB', 'TCTBTC', 'TCTUSDT', 'WRXBNB', 'WRXBTC', 'WRXUSDT', 'ICXBUSD', 'BTSUSDT', 'BTSBUSD', 'LSKUSDT', 'BNTUSDT', 'BNTBUSD']\n"
     ]
    }
   ],
   "source": [
    "symbols_list = []\n",
    "\n",
    "for x in data_symbols['symbols']:\n",
    "    if x['status'] == 'TRADING':\n",
    "        symbols_list.append(x['symbol'])\n",
    "\n",
    "print(symbols_list)"
   ]
  },
  {
   "cell_type": "markdown",
   "metadata": {},
   "source": [
    "## Get trading data for 1 symbol"
   ]
  },
  {
   "cell_type": "code",
   "execution_count": null,
   "metadata": {},
   "outputs": [],
   "source": [
    "def crea()\n",
    "response = requests.get('https://api.binance.com/api/v1/klines?symbol=BTCUSDT&interval=1h')\n",
    "data_symbol = json.loads(response.text)\n",
    "# put in dataframe and drop columns we don't neeed\n",
    "df = pd.DataFrame.from_dict(data_symbol)\n",
    "df = df.drop(range(6, 12), axis=1)\n",
    "# rename columns\n",
    "col_names = ['time', 'open', 'high', 'low', 'close', 'volume']\n",
    "df.columns = col_names\n",
    "# transform values from strings to floats\n",
    "for col in col_names[1:6]:\n",
    "    df[col] = df[col].astype(float)\n",
    "    \n",
    "timestamp = df.loc[1, 'time']\n",
    "response = requests.get(f'https://api.binance.com/api/v1/klines?symbol=BTCUSDT&interval=1h&endTime={timestamp}')\n",
    "\n",
    "\n",
    "\n",
    "\n"
   ]
  },
  {
   "cell_type": "code",
   "execution_count": null,
   "metadata": {},
   "outputs": [],
   "source": []
  },
  {
   "cell_type": "code",
   "execution_count": null,
   "metadata": {},
   "outputs": [],
   "source": []
  },
  {
   "cell_type": "code",
   "execution_count": 8,
   "metadata": {},
   "outputs": [],
   "source": [
    "response = requests.get('https://api.binance.com/api/v1/klines?symbol=BTCUSDT&interval=1h')"
   ]
  },
  {
   "cell_type": "code",
   "execution_count": 9,
   "metadata": {},
   "outputs": [],
   "source": [
    "data_symbol = json.loads(response.text)"
   ]
  },
  {
   "cell_type": "code",
   "execution_count": 10,
   "metadata": {},
   "outputs": [],
   "source": [
    "# put in dataframe and drop columns we don't neeed\n",
    "df = pd.DataFrame.from_dict(data_symbol)\n",
    "df = df.drop(range(6, 12), axis=1)"
   ]
  },
  {
   "cell_type": "code",
   "execution_count": 11,
   "metadata": {},
   "outputs": [],
   "source": [
    "# rename columns\n",
    "col_names = ['time', 'open', 'high', 'low', 'close', 'volume']\n",
    "df.columns = col_names"
   ]
  },
  {
   "cell_type": "code",
   "execution_count": 12,
   "metadata": {},
   "outputs": [
    {
     "data": {
      "text/html": [
       "<div>\n",
       "<style scoped>\n",
       "    .dataframe tbody tr th:only-of-type {\n",
       "        vertical-align: middle;\n",
       "    }\n",
       "\n",
       "    .dataframe tbody tr th {\n",
       "        vertical-align: top;\n",
       "    }\n",
       "\n",
       "    .dataframe thead th {\n",
       "        text-align: right;\n",
       "    }\n",
       "</style>\n",
       "<table border=\"1\" class=\"dataframe\">\n",
       "  <thead>\n",
       "    <tr style=\"text-align: right;\">\n",
       "      <th></th>\n",
       "      <th>time</th>\n",
       "      <th>open</th>\n",
       "      <th>high</th>\n",
       "      <th>low</th>\n",
       "      <th>close</th>\n",
       "      <th>volume</th>\n",
       "    </tr>\n",
       "  </thead>\n",
       "  <tbody>\n",
       "    <tr>\n",
       "      <th>0</th>\n",
       "      <td>1579204800000</td>\n",
       "      <td>8705.01000000</td>\n",
       "      <td>8750.00000000</td>\n",
       "      <td>8690.00000000</td>\n",
       "      <td>8744.00000000</td>\n",
       "      <td>1550.08402300</td>\n",
       "    </tr>\n",
       "    <tr>\n",
       "      <th>1</th>\n",
       "      <td>1579208400000</td>\n",
       "      <td>8742.94000000</td>\n",
       "      <td>8757.00000000</td>\n",
       "      <td>8672.00000000</td>\n",
       "      <td>8691.15000000</td>\n",
       "      <td>2129.93562300</td>\n",
       "    </tr>\n",
       "    <tr>\n",
       "      <th>2</th>\n",
       "      <td>1579212000000</td>\n",
       "      <td>8691.17000000</td>\n",
       "      <td>8743.21000000</td>\n",
       "      <td>8690.15000000</td>\n",
       "      <td>8720.38000000</td>\n",
       "      <td>1783.58193700</td>\n",
       "    </tr>\n",
       "    <tr>\n",
       "      <th>3</th>\n",
       "      <td>1579215600000</td>\n",
       "      <td>8720.34000000</td>\n",
       "      <td>8748.00000000</td>\n",
       "      <td>8712.39000000</td>\n",
       "      <td>8720.01000000</td>\n",
       "      <td>860.06047000</td>\n",
       "    </tr>\n",
       "    <tr>\n",
       "      <th>4</th>\n",
       "      <td>1579219200000</td>\n",
       "      <td>8720.15000000</td>\n",
       "      <td>8743.99000000</td>\n",
       "      <td>8672.44000000</td>\n",
       "      <td>8690.31000000</td>\n",
       "      <td>1988.85257700</td>\n",
       "    </tr>\n",
       "  </tbody>\n",
       "</table>\n",
       "</div>"
      ],
      "text/plain": [
       "            time           open           high            low          close  \\\n",
       "0  1579204800000  8705.01000000  8750.00000000  8690.00000000  8744.00000000   \n",
       "1  1579208400000  8742.94000000  8757.00000000  8672.00000000  8691.15000000   \n",
       "2  1579212000000  8691.17000000  8743.21000000  8690.15000000  8720.38000000   \n",
       "3  1579215600000  8720.34000000  8748.00000000  8712.39000000  8720.01000000   \n",
       "4  1579219200000  8720.15000000  8743.99000000  8672.44000000  8690.31000000   \n",
       "\n",
       "          volume  \n",
       "0  1550.08402300  \n",
       "1  2129.93562300  \n",
       "2  1783.58193700  \n",
       "3   860.06047000  \n",
       "4  1988.85257700  "
      ]
     },
     "execution_count": 12,
     "metadata": {},
     "output_type": "execute_result"
    }
   ],
   "source": [
    "df.head()"
   ]
  },
  {
   "cell_type": "code",
   "execution_count": 13,
   "metadata": {},
   "outputs": [
    {
     "data": {
      "text/plain": [
       "['open', 'high', 'low', 'close', 'volume']"
      ]
     },
     "execution_count": 13,
     "metadata": {},
     "output_type": "execute_result"
    }
   ],
   "source": [
    "col_names[1:6]"
   ]
  },
  {
   "cell_type": "code",
   "execution_count": 14,
   "metadata": {},
   "outputs": [
    {
     "data": {
      "text/html": [
       "<div>\n",
       "<style scoped>\n",
       "    .dataframe tbody tr th:only-of-type {\n",
       "        vertical-align: middle;\n",
       "    }\n",
       "\n",
       "    .dataframe tbody tr th {\n",
       "        vertical-align: top;\n",
       "    }\n",
       "\n",
       "    .dataframe thead th {\n",
       "        text-align: right;\n",
       "    }\n",
       "</style>\n",
       "<table border=\"1\" class=\"dataframe\">\n",
       "  <thead>\n",
       "    <tr style=\"text-align: right;\">\n",
       "      <th></th>\n",
       "      <th>time</th>\n",
       "      <th>open</th>\n",
       "      <th>high</th>\n",
       "      <th>low</th>\n",
       "      <th>close</th>\n",
       "      <th>volume</th>\n",
       "    </tr>\n",
       "  </thead>\n",
       "  <tbody>\n",
       "    <tr>\n",
       "      <th>0</th>\n",
       "      <td>1579204800000</td>\n",
       "      <td>8705.01</td>\n",
       "      <td>8750.00</td>\n",
       "      <td>8690.00</td>\n",
       "      <td>8744.00</td>\n",
       "      <td>1550.084023</td>\n",
       "    </tr>\n",
       "    <tr>\n",
       "      <th>1</th>\n",
       "      <td>1579208400000</td>\n",
       "      <td>8742.94</td>\n",
       "      <td>8757.00</td>\n",
       "      <td>8672.00</td>\n",
       "      <td>8691.15</td>\n",
       "      <td>2129.935623</td>\n",
       "    </tr>\n",
       "    <tr>\n",
       "      <th>2</th>\n",
       "      <td>1579212000000</td>\n",
       "      <td>8691.17</td>\n",
       "      <td>8743.21</td>\n",
       "      <td>8690.15</td>\n",
       "      <td>8720.38</td>\n",
       "      <td>1783.581937</td>\n",
       "    </tr>\n",
       "    <tr>\n",
       "      <th>3</th>\n",
       "      <td>1579215600000</td>\n",
       "      <td>8720.34</td>\n",
       "      <td>8748.00</td>\n",
       "      <td>8712.39</td>\n",
       "      <td>8720.01</td>\n",
       "      <td>860.060470</td>\n",
       "    </tr>\n",
       "    <tr>\n",
       "      <th>4</th>\n",
       "      <td>1579219200000</td>\n",
       "      <td>8720.15</td>\n",
       "      <td>8743.99</td>\n",
       "      <td>8672.44</td>\n",
       "      <td>8690.31</td>\n",
       "      <td>1988.852577</td>\n",
       "    </tr>\n",
       "  </tbody>\n",
       "</table>\n",
       "</div>"
      ],
      "text/plain": [
       "            time     open     high      low    close       volume\n",
       "0  1579204800000  8705.01  8750.00  8690.00  8744.00  1550.084023\n",
       "1  1579208400000  8742.94  8757.00  8672.00  8691.15  2129.935623\n",
       "2  1579212000000  8691.17  8743.21  8690.15  8720.38  1783.581937\n",
       "3  1579215600000  8720.34  8748.00  8712.39  8720.01   860.060470\n",
       "4  1579219200000  8720.15  8743.99  8672.44  8690.31  1988.852577"
      ]
     },
     "execution_count": 14,
     "metadata": {},
     "output_type": "execute_result"
    }
   ],
   "source": [
    "# transform values from strings to floats\n",
    "for col in col_names[1:6]:\n",
    "    df[col] = df[col].astype(float)\n",
    "\n",
    "df.head()"
   ]
  },
  {
   "cell_type": "code",
   "execution_count": 15,
   "metadata": {},
   "outputs": [
    {
     "name": "stdout",
     "output_type": "stream",
     "text": [
      "<class 'pandas.core.frame.DataFrame'>\n",
      "RangeIndex: 500 entries, 0 to 499\n",
      "Data columns (total 6 columns):\n",
      "time      500 non-null int64\n",
      "open      500 non-null float64\n",
      "high      500 non-null float64\n",
      "low       500 non-null float64\n",
      "close     500 non-null float64\n",
      "volume    500 non-null float64\n",
      "dtypes: float64(5), int64(1)\n",
      "memory usage: 23.5 KB\n"
     ]
    }
   ],
   "source": [
    "df.info()"
   ]
  },
  {
   "cell_type": "code",
   "execution_count": 16,
   "metadata": {},
   "outputs": [
    {
     "data": {
      "text/plain": [
       "0     2020-01-16 20:00:00\n",
       "1     2020-01-16 21:00:00\n",
       "2     2020-01-16 22:00:00\n",
       "3     2020-01-16 23:00:00\n",
       "4     2020-01-17 00:00:00\n",
       "5     2020-01-17 01:00:00\n",
       "6     2020-01-17 02:00:00\n",
       "7     2020-01-17 03:00:00\n",
       "8     2020-01-17 04:00:00\n",
       "9     2020-01-17 05:00:00\n",
       "10    2020-01-17 06:00:00\n",
       "11    2020-01-17 07:00:00\n",
       "12    2020-01-17 08:00:00\n",
       "13    2020-01-17 09:00:00\n",
       "14    2020-01-17 10:00:00\n",
       "15    2020-01-17 11:00:00\n",
       "16    2020-01-17 12:00:00\n",
       "17    2020-01-17 13:00:00\n",
       "18    2020-01-17 14:00:00\n",
       "19    2020-01-17 15:00:00\n",
       "20    2020-01-17 16:00:00\n",
       "21    2020-01-17 17:00:00\n",
       "22    2020-01-17 18:00:00\n",
       "23    2020-01-17 19:00:00\n",
       "24    2020-01-17 20:00:00\n",
       "25    2020-01-17 21:00:00\n",
       "26    2020-01-17 22:00:00\n",
       "27    2020-01-17 23:00:00\n",
       "28    2020-01-18 00:00:00\n",
       "29    2020-01-18 01:00:00\n",
       "              ...        \n",
       "470   2020-02-05 10:00:00\n",
       "471   2020-02-05 11:00:00\n",
       "472   2020-02-05 12:00:00\n",
       "473   2020-02-05 13:00:00\n",
       "474   2020-02-05 14:00:00\n",
       "475   2020-02-05 15:00:00\n",
       "476   2020-02-05 16:00:00\n",
       "477   2020-02-05 17:00:00\n",
       "478   2020-02-05 18:00:00\n",
       "479   2020-02-05 19:00:00\n",
       "480   2020-02-05 20:00:00\n",
       "481   2020-02-05 21:00:00\n",
       "482   2020-02-05 22:00:00\n",
       "483   2020-02-05 23:00:00\n",
       "484   2020-02-06 00:00:00\n",
       "485   2020-02-06 01:00:00\n",
       "486   2020-02-06 02:00:00\n",
       "487   2020-02-06 03:00:00\n",
       "488   2020-02-06 04:00:00\n",
       "489   2020-02-06 05:00:00\n",
       "490   2020-02-06 06:00:00\n",
       "491   2020-02-06 07:00:00\n",
       "492   2020-02-06 08:00:00\n",
       "493   2020-02-06 09:00:00\n",
       "494   2020-02-06 10:00:00\n",
       "495   2020-02-06 11:00:00\n",
       "496   2020-02-06 12:00:00\n",
       "497   2020-02-06 13:00:00\n",
       "498   2020-02-06 14:00:00\n",
       "499   2020-02-06 15:00:00\n",
       "Name: time, Length: 500, dtype: datetime64[ns]"
      ]
     },
     "execution_count": 16,
     "metadata": {},
     "output_type": "execute_result"
    }
   ],
   "source": [
    "pd.to_datetime(df['time'], unit='ms')"
   ]
  },
  {
   "cell_type": "code",
   "execution_count": 18,
   "metadata": {},
   "outputs": [],
   "source": [
    "response = requests.get('https://api.binance.com/api/v1/klines?symbol=BTCUSDT&interval=1h&endTime=1579204800000')"
   ]
  },
  {
   "cell_type": "code",
   "execution_count": 19,
   "metadata": {},
   "outputs": [
    {
     "data": {
      "text/plain": [
       "<Response [200]>"
      ]
     },
     "execution_count": 19,
     "metadata": {},
     "output_type": "execute_result"
    }
   ],
   "source": [
    "response"
   ]
  },
  {
   "cell_type": "code",
   "execution_count": 20,
   "metadata": {},
   "outputs": [],
   "source": [
    "data_symbol = json.loads(response.text)"
   ]
  },
  {
   "cell_type": "code",
   "execution_count": 21,
   "metadata": {},
   "outputs": [],
   "source": [
    "# put in dataframe and drop columns we don't neeed\n",
    "df1 = pd.DataFrame.from_dict(data_symbol)\n",
    "df1 = df1.drop(range(6, 12), axis=1)"
   ]
  },
  {
   "cell_type": "code",
   "execution_count": 22,
   "metadata": {},
   "outputs": [
    {
     "data": {
      "text/html": [
       "<div>\n",
       "<style scoped>\n",
       "    .dataframe tbody tr th:only-of-type {\n",
       "        vertical-align: middle;\n",
       "    }\n",
       "\n",
       "    .dataframe tbody tr th {\n",
       "        vertical-align: top;\n",
       "    }\n",
       "\n",
       "    .dataframe thead th {\n",
       "        text-align: right;\n",
       "    }\n",
       "</style>\n",
       "<table border=\"1\" class=\"dataframe\">\n",
       "  <thead>\n",
       "    <tr style=\"text-align: right;\">\n",
       "      <th></th>\n",
       "      <th>0</th>\n",
       "      <th>1</th>\n",
       "      <th>2</th>\n",
       "      <th>3</th>\n",
       "      <th>4</th>\n",
       "      <th>5</th>\n",
       "    </tr>\n",
       "  </thead>\n",
       "  <tbody>\n",
       "    <tr>\n",
       "      <th>0</th>\n",
       "      <td>1577408400000</td>\n",
       "      <td>7206.34000000</td>\n",
       "      <td>7214.07000000</td>\n",
       "      <td>7192.31000000</td>\n",
       "      <td>7212.00000000</td>\n",
       "      <td>452.05736300</td>\n",
       "    </tr>\n",
       "    <tr>\n",
       "      <th>1</th>\n",
       "      <td>1577412000000</td>\n",
       "      <td>7212.35000000</td>\n",
       "      <td>7241.61000000</td>\n",
       "      <td>7210.00000000</td>\n",
       "      <td>7223.58000000</td>\n",
       "      <td>1210.83007700</td>\n",
       "    </tr>\n",
       "    <tr>\n",
       "      <th>2</th>\n",
       "      <td>1577415600000</td>\n",
       "      <td>7222.69000000</td>\n",
       "      <td>7249.00000000</td>\n",
       "      <td>7215.39000000</td>\n",
       "      <td>7232.02000000</td>\n",
       "      <td>995.36904500</td>\n",
       "    </tr>\n",
       "    <tr>\n",
       "      <th>3</th>\n",
       "      <td>1577419200000</td>\n",
       "      <td>7232.04000000</td>\n",
       "      <td>7243.79000000</td>\n",
       "      <td>7190.00000000</td>\n",
       "      <td>7194.52000000</td>\n",
       "      <td>1442.31651200</td>\n",
       "    </tr>\n",
       "    <tr>\n",
       "      <th>4</th>\n",
       "      <td>1577422800000</td>\n",
       "      <td>7194.51000000</td>\n",
       "      <td>7224.28000000</td>\n",
       "      <td>7190.02000000</td>\n",
       "      <td>7210.29000000</td>\n",
       "      <td>1244.61760400</td>\n",
       "    </tr>\n",
       "  </tbody>\n",
       "</table>\n",
       "</div>"
      ],
      "text/plain": [
       "               0              1              2              3              4  \\\n",
       "0  1577408400000  7206.34000000  7214.07000000  7192.31000000  7212.00000000   \n",
       "1  1577412000000  7212.35000000  7241.61000000  7210.00000000  7223.58000000   \n",
       "2  1577415600000  7222.69000000  7249.00000000  7215.39000000  7232.02000000   \n",
       "3  1577419200000  7232.04000000  7243.79000000  7190.00000000  7194.52000000   \n",
       "4  1577422800000  7194.51000000  7224.28000000  7190.02000000  7210.29000000   \n",
       "\n",
       "               5  \n",
       "0   452.05736300  \n",
       "1  1210.83007700  \n",
       "2   995.36904500  \n",
       "3  1442.31651200  \n",
       "4  1244.61760400  "
      ]
     },
     "execution_count": 22,
     "metadata": {},
     "output_type": "execute_result"
    }
   ],
   "source": [
    "df1.head()"
   ]
  },
  {
   "cell_type": "code",
   "execution_count": 23,
   "metadata": {},
   "outputs": [],
   "source": [
    "# rename columns\n",
    "col_names = ['time', 'open', 'high', 'low', 'close', 'volume']\n",
    "df1.columns = col_names"
   ]
  },
  {
   "cell_type": "code",
   "execution_count": 24,
   "metadata": {},
   "outputs": [
    {
     "data": {
      "text/html": [
       "<div>\n",
       "<style scoped>\n",
       "    .dataframe tbody tr th:only-of-type {\n",
       "        vertical-align: middle;\n",
       "    }\n",
       "\n",
       "    .dataframe tbody tr th {\n",
       "        vertical-align: top;\n",
       "    }\n",
       "\n",
       "    .dataframe thead th {\n",
       "        text-align: right;\n",
       "    }\n",
       "</style>\n",
       "<table border=\"1\" class=\"dataframe\">\n",
       "  <thead>\n",
       "    <tr style=\"text-align: right;\">\n",
       "      <th></th>\n",
       "      <th>time</th>\n",
       "      <th>open</th>\n",
       "      <th>high</th>\n",
       "      <th>low</th>\n",
       "      <th>close</th>\n",
       "      <th>volume</th>\n",
       "    </tr>\n",
       "  </thead>\n",
       "  <tbody>\n",
       "    <tr>\n",
       "      <th>0</th>\n",
       "      <td>1.577408e+12</td>\n",
       "      <td>7206.34</td>\n",
       "      <td>7214.07</td>\n",
       "      <td>7192.31</td>\n",
       "      <td>7212.00</td>\n",
       "      <td>452.057363</td>\n",
       "    </tr>\n",
       "    <tr>\n",
       "      <th>1</th>\n",
       "      <td>1.577412e+12</td>\n",
       "      <td>7212.35</td>\n",
       "      <td>7241.61</td>\n",
       "      <td>7210.00</td>\n",
       "      <td>7223.58</td>\n",
       "      <td>1210.830077</td>\n",
       "    </tr>\n",
       "    <tr>\n",
       "      <th>2</th>\n",
       "      <td>1.577416e+12</td>\n",
       "      <td>7222.69</td>\n",
       "      <td>7249.00</td>\n",
       "      <td>7215.39</td>\n",
       "      <td>7232.02</td>\n",
       "      <td>995.369045</td>\n",
       "    </tr>\n",
       "    <tr>\n",
       "      <th>3</th>\n",
       "      <td>1.577419e+12</td>\n",
       "      <td>7232.04</td>\n",
       "      <td>7243.79</td>\n",
       "      <td>7190.00</td>\n",
       "      <td>7194.52</td>\n",
       "      <td>1442.316512</td>\n",
       "    </tr>\n",
       "    <tr>\n",
       "      <th>4</th>\n",
       "      <td>1.577423e+12</td>\n",
       "      <td>7194.51</td>\n",
       "      <td>7224.28</td>\n",
       "      <td>7190.02</td>\n",
       "      <td>7210.29</td>\n",
       "      <td>1244.617604</td>\n",
       "    </tr>\n",
       "  </tbody>\n",
       "</table>\n",
       "</div>"
      ],
      "text/plain": [
       "           time     open     high      low    close       volume\n",
       "0  1.577408e+12  7206.34  7214.07  7192.31  7212.00   452.057363\n",
       "1  1.577412e+12  7212.35  7241.61  7210.00  7223.58  1210.830077\n",
       "2  1.577416e+12  7222.69  7249.00  7215.39  7232.02   995.369045\n",
       "3  1.577419e+12  7232.04  7243.79  7190.00  7194.52  1442.316512\n",
       "4  1.577423e+12  7194.51  7224.28  7190.02  7210.29  1244.617604"
      ]
     },
     "execution_count": 24,
     "metadata": {},
     "output_type": "execute_result"
    }
   ],
   "source": [
    "# transform values from strings to floats\n",
    "for col in col_names:\n",
    "    df1[col] = df1[col].astype(float)\n",
    "\n",
    "df1.head()"
   ]
  },
  {
   "cell_type": "code",
   "execution_count": 25,
   "metadata": {
    "scrolled": true
   },
   "outputs": [
    {
     "data": {
      "text/plain": [
       "0     2019-12-27 01:00:00\n",
       "1     2019-12-27 02:00:00\n",
       "2     2019-12-27 03:00:00\n",
       "3     2019-12-27 04:00:00\n",
       "4     2019-12-27 05:00:00\n",
       "5     2019-12-27 06:00:00\n",
       "6     2019-12-27 07:00:00\n",
       "7     2019-12-27 08:00:00\n",
       "8     2019-12-27 09:00:00\n",
       "9     2019-12-27 10:00:00\n",
       "10    2019-12-27 11:00:00\n",
       "11    2019-12-27 12:00:00\n",
       "12    2019-12-27 13:00:00\n",
       "13    2019-12-27 14:00:00\n",
       "14    2019-12-27 15:00:00\n",
       "15    2019-12-27 16:00:00\n",
       "16    2019-12-27 17:00:00\n",
       "17    2019-12-27 18:00:00\n",
       "18    2019-12-27 19:00:00\n",
       "19    2019-12-27 20:00:00\n",
       "20    2019-12-27 21:00:00\n",
       "21    2019-12-27 22:00:00\n",
       "22    2019-12-27 23:00:00\n",
       "23    2019-12-28 00:00:00\n",
       "24    2019-12-28 01:00:00\n",
       "25    2019-12-28 02:00:00\n",
       "26    2019-12-28 03:00:00\n",
       "27    2019-12-28 04:00:00\n",
       "28    2019-12-28 05:00:00\n",
       "29    2019-12-28 06:00:00\n",
       "              ...        \n",
       "470   2020-01-15 15:00:00\n",
       "471   2020-01-15 16:00:00\n",
       "472   2020-01-15 17:00:00\n",
       "473   2020-01-15 18:00:00\n",
       "474   2020-01-15 19:00:00\n",
       "475   2020-01-15 20:00:00\n",
       "476   2020-01-15 21:00:00\n",
       "477   2020-01-15 22:00:00\n",
       "478   2020-01-15 23:00:00\n",
       "479   2020-01-16 00:00:00\n",
       "480   2020-01-16 01:00:00\n",
       "481   2020-01-16 02:00:00\n",
       "482   2020-01-16 03:00:00\n",
       "483   2020-01-16 04:00:00\n",
       "484   2020-01-16 05:00:00\n",
       "485   2020-01-16 06:00:00\n",
       "486   2020-01-16 07:00:00\n",
       "487   2020-01-16 08:00:00\n",
       "488   2020-01-16 09:00:00\n",
       "489   2020-01-16 10:00:00\n",
       "490   2020-01-16 11:00:00\n",
       "491   2020-01-16 12:00:00\n",
       "492   2020-01-16 13:00:00\n",
       "493   2020-01-16 14:00:00\n",
       "494   2020-01-16 15:00:00\n",
       "495   2020-01-16 16:00:00\n",
       "496   2020-01-16 17:00:00\n",
       "497   2020-01-16 18:00:00\n",
       "498   2020-01-16 19:00:00\n",
       "499   2020-01-16 20:00:00\n",
       "Name: time, Length: 500, dtype: datetime64[ns]"
      ]
     },
     "execution_count": 25,
     "metadata": {},
     "output_type": "execute_result"
    }
   ],
   "source": [
    "pd.to_datetime(df1['time'], unit='ms')"
   ]
  },
  {
   "cell_type": "code",
   "execution_count": 26,
   "metadata": {},
   "outputs": [],
   "source": [
    "df1.drop(499, inplace=True)"
   ]
  },
  {
   "cell_type": "code",
   "execution_count": 27,
   "metadata": {},
   "outputs": [],
   "source": [
    "new_df = pd.concat([df1, df])"
   ]
  },
  {
   "cell_type": "code",
   "execution_count": 28,
   "metadata": {},
   "outputs": [
    {
     "data": {
      "text/plain": [
       "(999, 6)"
      ]
     },
     "execution_count": 28,
     "metadata": {},
     "output_type": "execute_result"
    }
   ],
   "source": [
    "new_df.shape"
   ]
  },
  {
   "cell_type": "code",
   "execution_count": 29,
   "metadata": {},
   "outputs": [],
   "source": [
    "new_df.reset_index(drop = True, inplace = True)"
   ]
  },
  {
   "cell_type": "code",
   "execution_count": 30,
   "metadata": {},
   "outputs": [
    {
     "data": {
      "text/plain": [
       "1577412000000.0"
      ]
     },
     "execution_count": 30,
     "metadata": {},
     "output_type": "execute_result"
    }
   ],
   "source": [
    "new_df.loc[1, 'time']"
   ]
  },
  {
   "cell_type": "code",
   "execution_count": 31,
   "metadata": {},
   "outputs": [
    {
     "data": {
      "text/html": [
       "<div>\n",
       "<style scoped>\n",
       "    .dataframe tbody tr th:only-of-type {\n",
       "        vertical-align: middle;\n",
       "    }\n",
       "\n",
       "    .dataframe tbody tr th {\n",
       "        vertical-align: top;\n",
       "    }\n",
       "\n",
       "    .dataframe thead th {\n",
       "        text-align: right;\n",
       "    }\n",
       "</style>\n",
       "<table border=\"1\" class=\"dataframe\">\n",
       "  <thead>\n",
       "    <tr style=\"text-align: right;\">\n",
       "      <th></th>\n",
       "      <th>time</th>\n",
       "      <th>open</th>\n",
       "      <th>high</th>\n",
       "      <th>low</th>\n",
       "      <th>close</th>\n",
       "      <th>volume</th>\n",
       "      <th>new_time</th>\n",
       "    </tr>\n",
       "  </thead>\n",
       "  <tbody>\n",
       "    <tr>\n",
       "      <th>0</th>\n",
       "      <td>1.577408e+12</td>\n",
       "      <td>7206.34</td>\n",
       "      <td>7214.07</td>\n",
       "      <td>7192.31</td>\n",
       "      <td>7212.00</td>\n",
       "      <td>452.057363</td>\n",
       "      <td>2019-12-27 01:00:00</td>\n",
       "    </tr>\n",
       "    <tr>\n",
       "      <th>1</th>\n",
       "      <td>1.577412e+12</td>\n",
       "      <td>7212.35</td>\n",
       "      <td>7241.61</td>\n",
       "      <td>7210.00</td>\n",
       "      <td>7223.58</td>\n",
       "      <td>1210.830077</td>\n",
       "      <td>2019-12-27 02:00:00</td>\n",
       "    </tr>\n",
       "    <tr>\n",
       "      <th>2</th>\n",
       "      <td>1.577416e+12</td>\n",
       "      <td>7222.69</td>\n",
       "      <td>7249.00</td>\n",
       "      <td>7215.39</td>\n",
       "      <td>7232.02</td>\n",
       "      <td>995.369045</td>\n",
       "      <td>2019-12-27 03:00:00</td>\n",
       "    </tr>\n",
       "    <tr>\n",
       "      <th>3</th>\n",
       "      <td>1.577419e+12</td>\n",
       "      <td>7232.04</td>\n",
       "      <td>7243.79</td>\n",
       "      <td>7190.00</td>\n",
       "      <td>7194.52</td>\n",
       "      <td>1442.316512</td>\n",
       "      <td>2019-12-27 04:00:00</td>\n",
       "    </tr>\n",
       "    <tr>\n",
       "      <th>4</th>\n",
       "      <td>1.577423e+12</td>\n",
       "      <td>7194.51</td>\n",
       "      <td>7224.28</td>\n",
       "      <td>7190.02</td>\n",
       "      <td>7210.29</td>\n",
       "      <td>1244.617604</td>\n",
       "      <td>2019-12-27 05:00:00</td>\n",
       "    </tr>\n",
       "  </tbody>\n",
       "</table>\n",
       "</div>"
      ],
      "text/plain": [
       "           time     open     high      low    close       volume  \\\n",
       "0  1.577408e+12  7206.34  7214.07  7192.31  7212.00   452.057363   \n",
       "1  1.577412e+12  7212.35  7241.61  7210.00  7223.58  1210.830077   \n",
       "2  1.577416e+12  7222.69  7249.00  7215.39  7232.02   995.369045   \n",
       "3  1.577419e+12  7232.04  7243.79  7190.00  7194.52  1442.316512   \n",
       "4  1.577423e+12  7194.51  7224.28  7190.02  7210.29  1244.617604   \n",
       "\n",
       "             new_time  \n",
       "0 2019-12-27 01:00:00  \n",
       "1 2019-12-27 02:00:00  \n",
       "2 2019-12-27 03:00:00  \n",
       "3 2019-12-27 04:00:00  \n",
       "4 2019-12-27 05:00:00  "
      ]
     },
     "execution_count": 31,
     "metadata": {},
     "output_type": "execute_result"
    }
   ],
   "source": [
    "new_df['new_time'] = pd.to_datetime(new_df['time'], unit='ms')\n",
    "new_df.head()"
   ]
  },
  {
   "cell_type": "code",
   "execution_count": 32,
   "metadata": {},
   "outputs": [
    {
     "data": {
      "text/plain": [
       "1577408400000.0"
      ]
     },
     "execution_count": 32,
     "metadata": {},
     "output_type": "execute_result"
    }
   ],
   "source": [
    "new_df.loc[0, 'time']"
   ]
  },
  {
   "cell_type": "code",
   "execution_count": 33,
   "metadata": {},
   "outputs": [
    {
     "data": {
      "image/png": "[encoded data removed]",
      "text/plain": [
       "<Figure size 1440x720 with 1 Axes>"
      ]
     },
     "metadata": {
      "needs_background": "light"
     },
     "output_type": "display_data"
    }
   ],
   "source": [
    "plt.figure(figsize=(20,10))\n",
    "new_df.set_index('new_time')['close'].plot(kind='line');"
   ]
  },
  {
   "cell_type": "code",
   "execution_count": 34,
   "metadata": {},
   "outputs": [],
   "source": [
    "response = requests.get('https://api.binance.com/api/v1/klines?symbol=BTCUSDT&interval=1h&endTime=1577408400000')"
   ]
  },
  {
   "cell_type": "code",
   "execution_count": 35,
   "metadata": {},
   "outputs": [],
   "source": [
    "data_symbol = json.loads(response.text)"
   ]
  },
  {
   "cell_type": "code",
   "execution_count": 36,
   "metadata": {},
   "outputs": [],
   "source": [
    "# put in dataframe and drop columns we don't neeed\n",
    "df2 = pd.DataFrame.from_dict(data_symbol)\n",
    "df2 = df2.drop(range(6, 12), axis=1)"
   ]
  },
  {
   "cell_type": "code",
   "execution_count": 37,
   "metadata": {},
   "outputs": [],
   "source": [
    "# rename columns\n",
    "col_names = ['time', 'open', 'high', 'low', 'close', 'volume']\n",
    "df2.columns = col_names"
   ]
  },
  {
   "cell_type": "code",
   "execution_count": 38,
   "metadata": {},
   "outputs": [
    {
     "data": {
      "text/html": [
       "<div>\n",
       "<style scoped>\n",
       "    .dataframe tbody tr th:only-of-type {\n",
       "        vertical-align: middle;\n",
       "    }\n",
       "\n",
       "    .dataframe tbody tr th {\n",
       "        vertical-align: top;\n",
       "    }\n",
       "\n",
       "    .dataframe thead th {\n",
       "        text-align: right;\n",
       "    }\n",
       "</style>\n",
       "<table border=\"1\" class=\"dataframe\">\n",
       "  <thead>\n",
       "    <tr style=\"text-align: right;\">\n",
       "      <th></th>\n",
       "      <th>time</th>\n",
       "      <th>open</th>\n",
       "      <th>high</th>\n",
       "      <th>low</th>\n",
       "      <th>close</th>\n",
       "      <th>volume</th>\n",
       "    </tr>\n",
       "  </thead>\n",
       "  <tbody>\n",
       "    <tr>\n",
       "      <th>0</th>\n",
       "      <td>1.575612e+12</td>\n",
       "      <td>7394.64</td>\n",
       "      <td>7395.73</td>\n",
       "      <td>7332.00</td>\n",
       "      <td>7360.80</td>\n",
       "      <td>1508.909294</td>\n",
       "    </tr>\n",
       "    <tr>\n",
       "      <th>1</th>\n",
       "      <td>1.575616e+12</td>\n",
       "      <td>7361.90</td>\n",
       "      <td>7386.20</td>\n",
       "      <td>7346.15</td>\n",
       "      <td>7367.54</td>\n",
       "      <td>1367.607531</td>\n",
       "    </tr>\n",
       "    <tr>\n",
       "      <th>2</th>\n",
       "      <td>1.575619e+12</td>\n",
       "      <td>7367.00</td>\n",
       "      <td>7380.00</td>\n",
       "      <td>7330.00</td>\n",
       "      <td>7350.68</td>\n",
       "      <td>1647.148614</td>\n",
       "    </tr>\n",
       "    <tr>\n",
       "      <th>3</th>\n",
       "      <td>1.575623e+12</td>\n",
       "      <td>7350.54</td>\n",
       "      <td>7443.15</td>\n",
       "      <td>7315.00</td>\n",
       "      <td>7387.41</td>\n",
       "      <td>3696.847609</td>\n",
       "    </tr>\n",
       "    <tr>\n",
       "      <th>4</th>\n",
       "      <td>1.575626e+12</td>\n",
       "      <td>7387.43</td>\n",
       "      <td>7396.29</td>\n",
       "      <td>7325.00</td>\n",
       "      <td>7331.80</td>\n",
       "      <td>1851.278505</td>\n",
       "    </tr>\n",
       "  </tbody>\n",
       "</table>\n",
       "</div>"
      ],
      "text/plain": [
       "           time     open     high      low    close       volume\n",
       "0  1.575612e+12  7394.64  7395.73  7332.00  7360.80  1508.909294\n",
       "1  1.575616e+12  7361.90  7386.20  7346.15  7367.54  1367.607531\n",
       "2  1.575619e+12  7367.00  7380.00  7330.00  7350.68  1647.148614\n",
       "3  1.575623e+12  7350.54  7443.15  7315.00  7387.41  3696.847609\n",
       "4  1.575626e+12  7387.43  7396.29  7325.00  7331.80  1851.278505"
      ]
     },
     "execution_count": 38,
     "metadata": {},
     "output_type": "execute_result"
    }
   ],
   "source": [
    "for col in col_names:\n",
    "    df2[col] = df2[col].astype(float)\n",
    "\n",
    "df2.head()"
   ]
  },
  {
   "cell_type": "code",
   "execution_count": 39,
   "metadata": {},
   "outputs": [
    {
     "data": {
      "text/plain": [
       "0     2019-12-06 06:00:00\n",
       "1     2019-12-06 07:00:00\n",
       "2     2019-12-06 08:00:00\n",
       "3     2019-12-06 09:00:00\n",
       "4     2019-12-06 10:00:00\n",
       "5     2019-12-06 11:00:00\n",
       "6     2019-12-06 12:00:00\n",
       "7     2019-12-06 13:00:00\n",
       "8     2019-12-06 14:00:00\n",
       "9     2019-12-06 15:00:00\n",
       "10    2019-12-06 16:00:00\n",
       "11    2019-12-06 17:00:00\n",
       "12    2019-12-06 18:00:00\n",
       "13    2019-12-06 19:00:00\n",
       "14    2019-12-06 20:00:00\n",
       "15    2019-12-06 21:00:00\n",
       "16    2019-12-06 22:00:00\n",
       "17    2019-12-06 23:00:00\n",
       "18    2019-12-07 00:00:00\n",
       "19    2019-12-07 01:00:00\n",
       "20    2019-12-07 02:00:00\n",
       "21    2019-12-07 03:00:00\n",
       "22    2019-12-07 04:00:00\n",
       "23    2019-12-07 05:00:00\n",
       "24    2019-12-07 06:00:00\n",
       "25    2019-12-07 07:00:00\n",
       "26    2019-12-07 08:00:00\n",
       "27    2019-12-07 09:00:00\n",
       "28    2019-12-07 10:00:00\n",
       "29    2019-12-07 11:00:00\n",
       "              ...        \n",
       "470   2019-12-25 20:00:00\n",
       "471   2019-12-25 21:00:00\n",
       "472   2019-12-25 22:00:00\n",
       "473   2019-12-25 23:00:00\n",
       "474   2019-12-26 00:00:00\n",
       "475   2019-12-26 01:00:00\n",
       "476   2019-12-26 02:00:00\n",
       "477   2019-12-26 03:00:00\n",
       "478   2019-12-26 04:00:00\n",
       "479   2019-12-26 05:00:00\n",
       "480   2019-12-26 06:00:00\n",
       "481   2019-12-26 07:00:00\n",
       "482   2019-12-26 08:00:00\n",
       "483   2019-12-26 09:00:00\n",
       "484   2019-12-26 10:00:00\n",
       "485   2019-12-26 11:00:00\n",
       "486   2019-12-26 12:00:00\n",
       "487   2019-12-26 13:00:00\n",
       "488   2019-12-26 14:00:00\n",
       "489   2019-12-26 15:00:00\n",
       "490   2019-12-26 16:00:00\n",
       "491   2019-12-26 17:00:00\n",
       "492   2019-12-26 18:00:00\n",
       "493   2019-12-26 19:00:00\n",
       "494   2019-12-26 20:00:00\n",
       "495   2019-12-26 21:00:00\n",
       "496   2019-12-26 22:00:00\n",
       "497   2019-12-26 23:00:00\n",
       "498   2019-12-27 00:00:00\n",
       "499   2019-12-27 01:00:00\n",
       "Name: time, Length: 500, dtype: datetime64[ns]"
      ]
     },
     "execution_count": 39,
     "metadata": {},
     "output_type": "execute_result"
    }
   ],
   "source": [
    "pd.to_datetime(df2['time'], unit='ms')"
   ]
  },
  {
   "cell_type": "code",
   "execution_count": 40,
   "metadata": {},
   "outputs": [],
   "source": [
    "df2.drop(499, inplace=True)"
   ]
  },
  {
   "cell_type": "code",
   "execution_count": 41,
   "metadata": {},
   "outputs": [],
   "source": [
    "new_df = pd.concat([df2, df1, df])"
   ]
  },
  {
   "cell_type": "code",
   "execution_count": 42,
   "metadata": {},
   "outputs": [],
   "source": [
    "new_df.reset_index(drop = True, inplace = True)"
   ]
  },
  {
   "cell_type": "code",
   "execution_count": 43,
   "metadata": {},
   "outputs": [
    {
     "data": {
      "text/plain": [
       "(1498, 6)"
      ]
     },
     "execution_count": 43,
     "metadata": {},
     "output_type": "execute_result"
    }
   ],
   "source": [
    "new_df.shape"
   ]
  },
  {
   "cell_type": "code",
   "execution_count": 44,
   "metadata": {},
   "outputs": [
    {
     "data": {
      "text/html": [
       "<div>\n",
       "<style scoped>\n",
       "    .dataframe tbody tr th:only-of-type {\n",
       "        vertical-align: middle;\n",
       "    }\n",
       "\n",
       "    .dataframe tbody tr th {\n",
       "        vertical-align: top;\n",
       "    }\n",
       "\n",
       "    .dataframe thead th {\n",
       "        text-align: right;\n",
       "    }\n",
       "</style>\n",
       "<table border=\"1\" class=\"dataframe\">\n",
       "  <thead>\n",
       "    <tr style=\"text-align: right;\">\n",
       "      <th></th>\n",
       "      <th>time</th>\n",
       "      <th>open</th>\n",
       "      <th>high</th>\n",
       "      <th>low</th>\n",
       "      <th>close</th>\n",
       "      <th>volume</th>\n",
       "      <th>new_time</th>\n",
       "    </tr>\n",
       "  </thead>\n",
       "  <tbody>\n",
       "    <tr>\n",
       "      <th>0</th>\n",
       "      <td>1.575612e+12</td>\n",
       "      <td>7394.64</td>\n",
       "      <td>7395.73</td>\n",
       "      <td>7332.00</td>\n",
       "      <td>7360.80</td>\n",
       "      <td>1508.909294</td>\n",
       "      <td>2019-12-06 06:00:00</td>\n",
       "    </tr>\n",
       "    <tr>\n",
       "      <th>1</th>\n",
       "      <td>1.575616e+12</td>\n",
       "      <td>7361.90</td>\n",
       "      <td>7386.20</td>\n",
       "      <td>7346.15</td>\n",
       "      <td>7367.54</td>\n",
       "      <td>1367.607531</td>\n",
       "      <td>2019-12-06 07:00:00</td>\n",
       "    </tr>\n",
       "    <tr>\n",
       "      <th>2</th>\n",
       "      <td>1.575619e+12</td>\n",
       "      <td>7367.00</td>\n",
       "      <td>7380.00</td>\n",
       "      <td>7330.00</td>\n",
       "      <td>7350.68</td>\n",
       "      <td>1647.148614</td>\n",
       "      <td>2019-12-06 08:00:00</td>\n",
       "    </tr>\n",
       "    <tr>\n",
       "      <th>3</th>\n",
       "      <td>1.575623e+12</td>\n",
       "      <td>7350.54</td>\n",
       "      <td>7443.15</td>\n",
       "      <td>7315.00</td>\n",
       "      <td>7387.41</td>\n",
       "      <td>3696.847609</td>\n",
       "      <td>2019-12-06 09:00:00</td>\n",
       "    </tr>\n",
       "    <tr>\n",
       "      <th>4</th>\n",
       "      <td>1.575626e+12</td>\n",
       "      <td>7387.43</td>\n",
       "      <td>7396.29</td>\n",
       "      <td>7325.00</td>\n",
       "      <td>7331.80</td>\n",
       "      <td>1851.278505</td>\n",
       "      <td>2019-12-06 10:00:00</td>\n",
       "    </tr>\n",
       "  </tbody>\n",
       "</table>\n",
       "</div>"
      ],
      "text/plain": [
       "           time     open     high      low    close       volume  \\\n",
       "0  1.575612e+12  7394.64  7395.73  7332.00  7360.80  1508.909294   \n",
       "1  1.575616e+12  7361.90  7386.20  7346.15  7367.54  1367.607531   \n",
       "2  1.575619e+12  7367.00  7380.00  7330.00  7350.68  1647.148614   \n",
       "3  1.575623e+12  7350.54  7443.15  7315.00  7387.41  3696.847609   \n",
       "4  1.575626e+12  7387.43  7396.29  7325.00  7331.80  1851.278505   \n",
       "\n",
       "             new_time  \n",
       "0 2019-12-06 06:00:00  \n",
       "1 2019-12-06 07:00:00  \n",
       "2 2019-12-06 08:00:00  \n",
       "3 2019-12-06 09:00:00  \n",
       "4 2019-12-06 10:00:00  "
      ]
     },
     "execution_count": 44,
     "metadata": {},
     "output_type": "execute_result"
    }
   ],
   "source": [
    "new_df['new_time'] = pd.to_datetime(new_df['time'], unit='ms')\n",
    "new_df.head()"
   ]
  },
  {
   "cell_type": "code",
   "execution_count": 45,
   "metadata": {},
   "outputs": [
    {
     "data": {
      "image/png": "[encoded data removed]",
      "text/plain": [
       "<Figure size 1440x720 with 1 Axes>"
      ]
     },
     "metadata": {
      "needs_background": "light"
     },
     "output_type": "display_data"
    }
   ],
   "source": [
    "plt.figure(figsize=(20,10))\n",
    "new_df.set_index('new_time')['close'].plot(kind='line');"
   ]
  },
  {
   "cell_type": "code",
   "execution_count": 46,
   "metadata": {},
   "outputs": [
    {
     "data": {
      "text/plain": [
       "(1498, 7)"
      ]
     },
     "execution_count": 46,
     "metadata": {},
     "output_type": "execute_result"
    }
   ],
   "source": [
    "new_df.shape"
   ]
  },
  {
   "cell_type": "code",
   "execution_count": 47,
   "metadata": {},
   "outputs": [
    {
     "data": {
      "text/plain": [
       "1575615600000.0"
      ]
     },
     "execution_count": 47,
     "metadata": {},
     "output_type": "execute_result"
    }
   ],
   "source": [
    "new_df.loc[1, 'time']"
   ]
  },
  {
   "cell_type": "code",
   "execution_count": 48,
   "metadata": {},
   "outputs": [],
   "source": [
    "response = requests.get('https://api.binance.com/api/v1/klines?symbol=BTCUSDT&interval=1h&endTime=1575615600000')"
   ]
  },
  {
   "cell_type": "code",
   "execution_count": 49,
   "metadata": {},
   "outputs": [],
   "source": [
    "data_symbol = json.loads(response.text)"
   ]
  },
  {
   "cell_type": "code",
   "execution_count": 50,
   "metadata": {},
   "outputs": [],
   "source": [
    "# put in dataframe and drop columns we don't neeed\n",
    "df3 = pd.DataFrame.from_dict(data_symbol)\n",
    "df3 = df3.drop(range(6, 12), axis=1)"
   ]
  },
  {
   "cell_type": "code",
   "execution_count": 51,
   "metadata": {},
   "outputs": [],
   "source": [
    "# rename columns\n",
    "col_names = ['time', 'open', 'high', 'low', 'close', 'volume']\n",
    "df3.columns = col_names"
   ]
  },
  {
   "cell_type": "code",
   "execution_count": 52,
   "metadata": {},
   "outputs": [
    {
     "data": {
      "text/html": [
       "<div>\n",
       "<style scoped>\n",
       "    .dataframe tbody tr th:only-of-type {\n",
       "        vertical-align: middle;\n",
       "    }\n",
       "\n",
       "    .dataframe tbody tr th {\n",
       "        vertical-align: top;\n",
       "    }\n",
       "\n",
       "    .dataframe thead th {\n",
       "        text-align: right;\n",
       "    }\n",
       "</style>\n",
       "<table border=\"1\" class=\"dataframe\">\n",
       "  <thead>\n",
       "    <tr style=\"text-align: right;\">\n",
       "      <th></th>\n",
       "      <th>time</th>\n",
       "      <th>open</th>\n",
       "      <th>high</th>\n",
       "      <th>low</th>\n",
       "      <th>close</th>\n",
       "      <th>volume</th>\n",
       "    </tr>\n",
       "  </thead>\n",
       "  <tbody>\n",
       "    <tr>\n",
       "      <th>0</th>\n",
       "      <td>1.573812e+12</td>\n",
       "      <td>8621.62</td>\n",
       "      <td>8664.92</td>\n",
       "      <td>8590.00</td>\n",
       "      <td>8655.79</td>\n",
       "      <td>2685.695883</td>\n",
       "    </tr>\n",
       "    <tr>\n",
       "      <th>1</th>\n",
       "      <td>1.573816e+12</td>\n",
       "      <td>8656.09</td>\n",
       "      <td>8669.33</td>\n",
       "      <td>8626.62</td>\n",
       "      <td>8630.54</td>\n",
       "      <td>1337.988112</td>\n",
       "    </tr>\n",
       "    <tr>\n",
       "      <th>2</th>\n",
       "      <td>1.573819e+12</td>\n",
       "      <td>8630.50</td>\n",
       "      <td>8674.27</td>\n",
       "      <td>8626.62</td>\n",
       "      <td>8664.50</td>\n",
       "      <td>1302.582625</td>\n",
       "    </tr>\n",
       "    <tr>\n",
       "      <th>3</th>\n",
       "      <td>1.573823e+12</td>\n",
       "      <td>8664.42</td>\n",
       "      <td>8689.00</td>\n",
       "      <td>8638.08</td>\n",
       "      <td>8645.47</td>\n",
       "      <td>1743.713540</td>\n",
       "    </tr>\n",
       "    <tr>\n",
       "      <th>4</th>\n",
       "      <td>1.573826e+12</td>\n",
       "      <td>8645.40</td>\n",
       "      <td>8647.24</td>\n",
       "      <td>8400.00</td>\n",
       "      <td>8463.73</td>\n",
       "      <td>7316.921045</td>\n",
       "    </tr>\n",
       "  </tbody>\n",
       "</table>\n",
       "</div>"
      ],
      "text/plain": [
       "           time     open     high      low    close       volume\n",
       "0  1.573812e+12  8621.62  8664.92  8590.00  8655.79  2685.695883\n",
       "1  1.573816e+12  8656.09  8669.33  8626.62  8630.54  1337.988112\n",
       "2  1.573819e+12  8630.50  8674.27  8626.62  8664.50  1302.582625\n",
       "3  1.573823e+12  8664.42  8689.00  8638.08  8645.47  1743.713540\n",
       "4  1.573826e+12  8645.40  8647.24  8400.00  8463.73  7316.921045"
      ]
     },
     "execution_count": 52,
     "metadata": {},
     "output_type": "execute_result"
    }
   ],
   "source": [
    "for col in col_names:\n",
    "    df3[col] = df3[col].astype(float)\n",
    "\n",
    "df3.head()"
   ]
  },
  {
   "cell_type": "code",
   "execution_count": 53,
   "metadata": {},
   "outputs": [
    {
     "data": {
      "text/plain": [
       "0     2019-11-15 10:00:00\n",
       "1     2019-11-15 11:00:00\n",
       "2     2019-11-15 12:00:00\n",
       "3     2019-11-15 13:00:00\n",
       "4     2019-11-15 14:00:00\n",
       "5     2019-11-15 15:00:00\n",
       "6     2019-11-15 16:00:00\n",
       "7     2019-11-15 17:00:00\n",
       "8     2019-11-15 18:00:00\n",
       "9     2019-11-15 19:00:00\n",
       "10    2019-11-15 20:00:00\n",
       "11    2019-11-15 21:00:00\n",
       "12    2019-11-15 22:00:00\n",
       "13    2019-11-15 23:00:00\n",
       "14    2019-11-16 00:00:00\n",
       "15    2019-11-16 01:00:00\n",
       "16    2019-11-16 02:00:00\n",
       "17    2019-11-16 03:00:00\n",
       "18    2019-11-16 04:00:00\n",
       "19    2019-11-16 05:00:00\n",
       "20    2019-11-16 06:00:00\n",
       "21    2019-11-16 07:00:00\n",
       "22    2019-11-16 08:00:00\n",
       "23    2019-11-16 09:00:00\n",
       "24    2019-11-16 10:00:00\n",
       "25    2019-11-16 11:00:00\n",
       "26    2019-11-16 12:00:00\n",
       "27    2019-11-16 13:00:00\n",
       "28    2019-11-16 14:00:00\n",
       "29    2019-11-16 15:00:00\n",
       "              ...        \n",
       "470   2019-12-05 02:00:00\n",
       "471   2019-12-05 03:00:00\n",
       "472   2019-12-05 04:00:00\n",
       "473   2019-12-05 05:00:00\n",
       "474   2019-12-05 06:00:00\n",
       "475   2019-12-05 07:00:00\n",
       "476   2019-12-05 08:00:00\n",
       "477   2019-12-05 09:00:00\n",
       "478   2019-12-05 10:00:00\n",
       "479   2019-12-05 11:00:00\n",
       "480   2019-12-05 12:00:00\n",
       "481   2019-12-05 13:00:00\n",
       "482   2019-12-05 14:00:00\n",
       "483   2019-12-05 15:00:00\n",
       "484   2019-12-05 16:00:00\n",
       "485   2019-12-05 17:00:00\n",
       "486   2019-12-05 18:00:00\n",
       "487   2019-12-05 19:00:00\n",
       "488   2019-12-05 20:00:00\n",
       "489   2019-12-05 21:00:00\n",
       "490   2019-12-05 22:00:00\n",
       "491   2019-12-05 23:00:00\n",
       "492   2019-12-06 00:00:00\n",
       "493   2019-12-06 01:00:00\n",
       "494   2019-12-06 02:00:00\n",
       "495   2019-12-06 03:00:00\n",
       "496   2019-12-06 04:00:00\n",
       "497   2019-12-06 05:00:00\n",
       "498   2019-12-06 06:00:00\n",
       "499   2019-12-06 07:00:00\n",
       "Name: time, Length: 500, dtype: datetime64[ns]"
      ]
     },
     "execution_count": 53,
     "metadata": {},
     "output_type": "execute_result"
    }
   ],
   "source": [
    "pd.to_datetime(df3['time'], unit='ms')"
   ]
  },
  {
   "cell_type": "code",
   "execution_count": 54,
   "metadata": {},
   "outputs": [],
   "source": [
    "df3.drop(499, inplace=True)"
   ]
  },
  {
   "cell_type": "code",
   "execution_count": 55,
   "metadata": {},
   "outputs": [],
   "source": [
    "new_df = pd.concat([df3, df2, df1, df])"
   ]
  },
  {
   "cell_type": "code",
   "execution_count": 56,
   "metadata": {},
   "outputs": [],
   "source": [
    "new_df.reset_index(drop = True, inplace = True)"
   ]
  },
  {
   "cell_type": "code",
   "execution_count": 57,
   "metadata": {},
   "outputs": [
    {
     "data": {
      "text/plain": [
       "(1997, 6)"
      ]
     },
     "execution_count": 57,
     "metadata": {},
     "output_type": "execute_result"
    }
   ],
   "source": [
    "new_df.shape"
   ]
  },
  {
   "cell_type": "code",
   "execution_count": 58,
   "metadata": {},
   "outputs": [
    {
     "data": {
      "text/html": [
       "<div>\n",
       "<style scoped>\n",
       "    .dataframe tbody tr th:only-of-type {\n",
       "        vertical-align: middle;\n",
       "    }\n",
       "\n",
       "    .dataframe tbody tr th {\n",
       "        vertical-align: top;\n",
       "    }\n",
       "\n",
       "    .dataframe thead th {\n",
       "        text-align: right;\n",
       "    }\n",
       "</style>\n",
       "<table border=\"1\" class=\"dataframe\">\n",
       "  <thead>\n",
       "    <tr style=\"text-align: right;\">\n",
       "      <th></th>\n",
       "      <th>time</th>\n",
       "      <th>open</th>\n",
       "      <th>high</th>\n",
       "      <th>low</th>\n",
       "      <th>close</th>\n",
       "      <th>volume</th>\n",
       "      <th>new_time</th>\n",
       "    </tr>\n",
       "  </thead>\n",
       "  <tbody>\n",
       "    <tr>\n",
       "      <th>0</th>\n",
       "      <td>1.573812e+12</td>\n",
       "      <td>8621.62</td>\n",
       "      <td>8664.92</td>\n",
       "      <td>8590.00</td>\n",
       "      <td>8655.79</td>\n",
       "      <td>2685.695883</td>\n",
       "      <td>2019-11-15 10:00:00</td>\n",
       "    </tr>\n",
       "    <tr>\n",
       "      <th>1</th>\n",
       "      <td>1.573816e+12</td>\n",
       "      <td>8656.09</td>\n",
       "      <td>8669.33</td>\n",
       "      <td>8626.62</td>\n",
       "      <td>8630.54</td>\n",
       "      <td>1337.988112</td>\n",
       "      <td>2019-11-15 11:00:00</td>\n",
       "    </tr>\n",
       "    <tr>\n",
       "      <th>2</th>\n",
       "      <td>1.573819e+12</td>\n",
       "      <td>8630.50</td>\n",
       "      <td>8674.27</td>\n",
       "      <td>8626.62</td>\n",
       "      <td>8664.50</td>\n",
       "      <td>1302.582625</td>\n",
       "      <td>2019-11-15 12:00:00</td>\n",
       "    </tr>\n",
       "    <tr>\n",
       "      <th>3</th>\n",
       "      <td>1.573823e+12</td>\n",
       "      <td>8664.42</td>\n",
       "      <td>8689.00</td>\n",
       "      <td>8638.08</td>\n",
       "      <td>8645.47</td>\n",
       "      <td>1743.713540</td>\n",
       "      <td>2019-11-15 13:00:00</td>\n",
       "    </tr>\n",
       "    <tr>\n",
       "      <th>4</th>\n",
       "      <td>1.573826e+12</td>\n",
       "      <td>8645.40</td>\n",
       "      <td>8647.24</td>\n",
       "      <td>8400.00</td>\n",
       "      <td>8463.73</td>\n",
       "      <td>7316.921045</td>\n",
       "      <td>2019-11-15 14:00:00</td>\n",
       "    </tr>\n",
       "  </tbody>\n",
       "</table>\n",
       "</div>"
      ],
      "text/plain": [
       "           time     open     high      low    close       volume  \\\n",
       "0  1.573812e+12  8621.62  8664.92  8590.00  8655.79  2685.695883   \n",
       "1  1.573816e+12  8656.09  8669.33  8626.62  8630.54  1337.988112   \n",
       "2  1.573819e+12  8630.50  8674.27  8626.62  8664.50  1302.582625   \n",
       "3  1.573823e+12  8664.42  8689.00  8638.08  8645.47  1743.713540   \n",
       "4  1.573826e+12  8645.40  8647.24  8400.00  8463.73  7316.921045   \n",
       "\n",
       "             new_time  \n",
       "0 2019-11-15 10:00:00  \n",
       "1 2019-11-15 11:00:00  \n",
       "2 2019-11-15 12:00:00  \n",
       "3 2019-11-15 13:00:00  \n",
       "4 2019-11-15 14:00:00  "
      ]
     },
     "execution_count": 58,
     "metadata": {},
     "output_type": "execute_result"
    }
   ],
   "source": [
    "new_df['new_time'] = pd.to_datetime(new_df['time'], unit='ms')\n",
    "new_df.head()"
   ]
  },
  {
   "cell_type": "code",
   "execution_count": 59,
   "metadata": {},
   "outputs": [
    {
     "data": {
      "image/png": "[encoded data removed]",
      "text/plain": [
       "<Figure size 1440x720 with 1 Axes>"
      ]
     },
     "metadata": {
      "needs_background": "light"
     },
     "output_type": "display_data"
    }
   ],
   "source": [
    "plt.figure(figsize=(20,10))\n",
    "new_df.set_index('new_time')['close'].plot(kind='line');"
   ]
  },
  {
   "cell_type": "code",
   "execution_count": 60,
   "metadata": {},
   "outputs": [
    {
     "data": {
      "text/plain": [
       "1573815600000.0"
      ]
     },
     "execution_count": 60,
     "metadata": {},
     "output_type": "execute_result"
    }
   ],
   "source": [
    "new_df.loc[1, 'time']"
   ]
  },
  {
   "cell_type": "code",
   "execution_count": 61,
   "metadata": {},
   "outputs": [],
   "source": [
    "response = requests.get('https://api.binance.com/api/v1/klines?symbol=BTCUSDT&interval=1h&endTime=1573815600000')\n",
    "data_symbol = json.loads(response.text)\n",
    "# put in dataframe and drop columns we don't neeed\n",
    "df4 = pd.DataFrame.from_dict(data_symbol)\n",
    "df4 = df4.drop(range(6, 12), axis=1)\n",
    "# rename columns\n",
    "col_names = ['time', 'open', 'high', 'low', 'close', 'volume']\n",
    "df4.columns = col_names"
   ]
  },
  {
   "cell_type": "code",
   "execution_count": 62,
   "metadata": {},
   "outputs": [],
   "source": [
    "for col in col_names:\n",
    "    df4[col] = df4[col].astype(float)"
   ]
  },
  {
   "cell_type": "code",
   "execution_count": 63,
   "metadata": {},
   "outputs": [
    {
     "data": {
      "text/plain": [
       "0     2019-10-25 14:00:00\n",
       "1     2019-10-25 15:00:00\n",
       "2     2019-10-25 16:00:00\n",
       "3     2019-10-25 17:00:00\n",
       "4     2019-10-25 18:00:00\n",
       "5     2019-10-25 19:00:00\n",
       "6     2019-10-25 20:00:00\n",
       "7     2019-10-25 21:00:00\n",
       "8     2019-10-25 22:00:00\n",
       "9     2019-10-25 23:00:00\n",
       "10    2019-10-26 00:00:00\n",
       "11    2019-10-26 01:00:00\n",
       "12    2019-10-26 02:00:00\n",
       "13    2019-10-26 03:00:00\n",
       "14    2019-10-26 04:00:00\n",
       "15    2019-10-26 05:00:00\n",
       "16    2019-10-26 06:00:00\n",
       "17    2019-10-26 07:00:00\n",
       "18    2019-10-26 08:00:00\n",
       "19    2019-10-26 09:00:00\n",
       "20    2019-10-26 10:00:00\n",
       "21    2019-10-26 11:00:00\n",
       "22    2019-10-26 12:00:00\n",
       "23    2019-10-26 13:00:00\n",
       "24    2019-10-26 14:00:00\n",
       "25    2019-10-26 15:00:00\n",
       "26    2019-10-26 16:00:00\n",
       "27    2019-10-26 17:00:00\n",
       "28    2019-10-26 18:00:00\n",
       "29    2019-10-26 19:00:00\n",
       "              ...        \n",
       "470   2019-11-14 06:00:00\n",
       "471   2019-11-14 07:00:00\n",
       "472   2019-11-14 08:00:00\n",
       "473   2019-11-14 09:00:00\n",
       "474   2019-11-14 10:00:00\n",
       "475   2019-11-14 11:00:00\n",
       "476   2019-11-14 12:00:00\n",
       "477   2019-11-14 13:00:00\n",
       "478   2019-11-14 14:00:00\n",
       "479   2019-11-14 15:00:00\n",
       "480   2019-11-14 16:00:00\n",
       "481   2019-11-14 17:00:00\n",
       "482   2019-11-14 18:00:00\n",
       "483   2019-11-14 19:00:00\n",
       "484   2019-11-14 20:00:00\n",
       "485   2019-11-14 21:00:00\n",
       "486   2019-11-14 22:00:00\n",
       "487   2019-11-14 23:00:00\n",
       "488   2019-11-15 00:00:00\n",
       "489   2019-11-15 01:00:00\n",
       "490   2019-11-15 02:00:00\n",
       "491   2019-11-15 03:00:00\n",
       "492   2019-11-15 04:00:00\n",
       "493   2019-11-15 05:00:00\n",
       "494   2019-11-15 06:00:00\n",
       "495   2019-11-15 07:00:00\n",
       "496   2019-11-15 08:00:00\n",
       "497   2019-11-15 09:00:00\n",
       "498   2019-11-15 10:00:00\n",
       "499   2019-11-15 11:00:00\n",
       "Name: time, Length: 500, dtype: datetime64[ns]"
      ]
     },
     "execution_count": 63,
     "metadata": {},
     "output_type": "execute_result"
    }
   ],
   "source": [
    "pd.to_datetime(df4['time'], unit='ms')"
   ]
  },
  {
   "cell_type": "code",
   "execution_count": 64,
   "metadata": {},
   "outputs": [],
   "source": [
    "df4.drop(499, inplace=True)"
   ]
  },
  {
   "cell_type": "code",
   "execution_count": 65,
   "metadata": {},
   "outputs": [],
   "source": [
    "new_df = pd.concat([df4, df3, df2, df1, df])"
   ]
  },
  {
   "cell_type": "code",
   "execution_count": 66,
   "metadata": {},
   "outputs": [],
   "source": [
    "new_df.reset_index(drop = True, inplace = True)"
   ]
  },
  {
   "cell_type": "code",
   "execution_count": 67,
   "metadata": {},
   "outputs": [
    {
     "data": {
      "text/plain": [
       "(2496, 6)"
      ]
     },
     "execution_count": 67,
     "metadata": {},
     "output_type": "execute_result"
    }
   ],
   "source": [
    "new_df.shape"
   ]
  },
  {
   "cell_type": "code",
   "execution_count": 68,
   "metadata": {},
   "outputs": [
    {
     "data": {
      "text/html": [
       "<div>\n",
       "<style scoped>\n",
       "    .dataframe tbody tr th:only-of-type {\n",
       "        vertical-align: middle;\n",
       "    }\n",
       "\n",
       "    .dataframe tbody tr th {\n",
       "        vertical-align: top;\n",
       "    }\n",
       "\n",
       "    .dataframe thead th {\n",
       "        text-align: right;\n",
       "    }\n",
       "</style>\n",
       "<table border=\"1\" class=\"dataframe\">\n",
       "  <thead>\n",
       "    <tr style=\"text-align: right;\">\n",
       "      <th></th>\n",
       "      <th>time</th>\n",
       "      <th>open</th>\n",
       "      <th>high</th>\n",
       "      <th>low</th>\n",
       "      <th>close</th>\n",
       "      <th>volume</th>\n",
       "      <th>date</th>\n",
       "    </tr>\n",
       "  </thead>\n",
       "  <tbody>\n",
       "    <tr>\n",
       "      <th>0</th>\n",
       "      <td>1.572012e+12</td>\n",
       "      <td>7668.70</td>\n",
       "      <td>7694.44</td>\n",
       "      <td>7638.39</td>\n",
       "      <td>7668.80</td>\n",
       "      <td>2656.628101</td>\n",
       "      <td>2019-10-25 14:00:00</td>\n",
       "    </tr>\n",
       "    <tr>\n",
       "      <th>1</th>\n",
       "      <td>1.572016e+12</td>\n",
       "      <td>7669.80</td>\n",
       "      <td>8403.95</td>\n",
       "      <td>7668.12</td>\n",
       "      <td>8263.16</td>\n",
       "      <td>12108.958777</td>\n",
       "      <td>2019-10-25 15:00:00</td>\n",
       "    </tr>\n",
       "    <tr>\n",
       "      <th>2</th>\n",
       "      <td>1.572019e+12</td>\n",
       "      <td>8262.95</td>\n",
       "      <td>8490.00</td>\n",
       "      <td>8247.30</td>\n",
       "      <td>8393.21</td>\n",
       "      <td>11619.200243</td>\n",
       "      <td>2019-10-25 16:00:00</td>\n",
       "    </tr>\n",
       "    <tr>\n",
       "      <th>3</th>\n",
       "      <td>1.572023e+12</td>\n",
       "      <td>8394.14</td>\n",
       "      <td>8799.00</td>\n",
       "      <td>8353.00</td>\n",
       "      <td>8490.16</td>\n",
       "      <td>14089.791229</td>\n",
       "      <td>2019-10-25 17:00:00</td>\n",
       "    </tr>\n",
       "    <tr>\n",
       "      <th>4</th>\n",
       "      <td>1.572026e+12</td>\n",
       "      <td>8490.29</td>\n",
       "      <td>8660.00</td>\n",
       "      <td>8444.48</td>\n",
       "      <td>8622.00</td>\n",
       "      <td>6783.939871</td>\n",
       "      <td>2019-10-25 18:00:00</td>\n",
       "    </tr>\n",
       "  </tbody>\n",
       "</table>\n",
       "</div>"
      ],
      "text/plain": [
       "           time     open     high      low    close        volume  \\\n",
       "0  1.572012e+12  7668.70  7694.44  7638.39  7668.80   2656.628101   \n",
       "1  1.572016e+12  7669.80  8403.95  7668.12  8263.16  12108.958777   \n",
       "2  1.572019e+12  8262.95  8490.00  8247.30  8393.21  11619.200243   \n",
       "3  1.572023e+12  8394.14  8799.00  8353.00  8490.16  14089.791229   \n",
       "4  1.572026e+12  8490.29  8660.00  8444.48  8622.00   6783.939871   \n",
       "\n",
       "                 date  \n",
       "0 2019-10-25 14:00:00  \n",
       "1 2019-10-25 15:00:00  \n",
       "2 2019-10-25 16:00:00  \n",
       "3 2019-10-25 17:00:00  \n",
       "4 2019-10-25 18:00:00  "
      ]
     },
     "execution_count": 68,
     "metadata": {},
     "output_type": "execute_result"
    }
   ],
   "source": [
    "new_df['date'] = pd.to_datetime(new_df['time'], unit='ms')\n",
    "new_df.head()"
   ]
  },
  {
   "cell_type": "code",
   "execution_count": 69,
   "metadata": {},
   "outputs": [
    {
     "data": {
      "image/png": "[encoded data removed]",
      "text/plain": [
       "<Figure size 1440x720 with 1 Axes>"
      ]
     },
     "metadata": {
      "needs_background": "light"
     },
     "output_type": "display_data"
    }
   ],
   "source": [
    "plt.figure(figsize=(20,10))\n",
    "new_df.set_index('date')['close'].plot(kind='line');"
   ]
  },
  {
   "cell_type": "code",
   "execution_count": 70,
   "metadata": {},
   "outputs": [
    {
     "data": {
      "text/html": [
       "<div>\n",
       "<style scoped>\n",
       "    .dataframe tbody tr th:only-of-type {\n",
       "        vertical-align: middle;\n",
       "    }\n",
       "\n",
       "    .dataframe tbody tr th {\n",
       "        vertical-align: top;\n",
       "    }\n",
       "\n",
       "    .dataframe thead th {\n",
       "        text-align: right;\n",
       "    }\n",
       "</style>\n",
       "<table border=\"1\" class=\"dataframe\">\n",
       "  <thead>\n",
       "    <tr style=\"text-align: right;\">\n",
       "      <th></th>\n",
       "      <th>time</th>\n",
       "      <th>open</th>\n",
       "      <th>high</th>\n",
       "      <th>low</th>\n",
       "      <th>close</th>\n",
       "      <th>volume</th>\n",
       "    </tr>\n",
       "    <tr>\n",
       "      <th>date</th>\n",
       "      <th></th>\n",
       "      <th></th>\n",
       "      <th></th>\n",
       "      <th></th>\n",
       "      <th></th>\n",
       "      <th></th>\n",
       "    </tr>\n",
       "  </thead>\n",
       "  <tbody>\n",
       "    <tr>\n",
       "      <th>2019-10-25 14:00:00</th>\n",
       "      <td>1.572012e+12</td>\n",
       "      <td>7668.70</td>\n",
       "      <td>7694.44</td>\n",
       "      <td>7638.39</td>\n",
       "      <td>7668.80</td>\n",
       "      <td>2656.628101</td>\n",
       "    </tr>\n",
       "    <tr>\n",
       "      <th>2019-10-25 15:00:00</th>\n",
       "      <td>1.572016e+12</td>\n",
       "      <td>7669.80</td>\n",
       "      <td>8403.95</td>\n",
       "      <td>7668.12</td>\n",
       "      <td>8263.16</td>\n",
       "      <td>12108.958777</td>\n",
       "    </tr>\n",
       "    <tr>\n",
       "      <th>2019-10-25 16:00:00</th>\n",
       "      <td>1.572019e+12</td>\n",
       "      <td>8262.95</td>\n",
       "      <td>8490.00</td>\n",
       "      <td>8247.30</td>\n",
       "      <td>8393.21</td>\n",
       "      <td>11619.200243</td>\n",
       "    </tr>\n",
       "    <tr>\n",
       "      <th>2019-10-25 17:00:00</th>\n",
       "      <td>1.572023e+12</td>\n",
       "      <td>8394.14</td>\n",
       "      <td>8799.00</td>\n",
       "      <td>8353.00</td>\n",
       "      <td>8490.16</td>\n",
       "      <td>14089.791229</td>\n",
       "    </tr>\n",
       "    <tr>\n",
       "      <th>2019-10-25 18:00:00</th>\n",
       "      <td>1.572026e+12</td>\n",
       "      <td>8490.29</td>\n",
       "      <td>8660.00</td>\n",
       "      <td>8444.48</td>\n",
       "      <td>8622.00</td>\n",
       "      <td>6783.939871</td>\n",
       "    </tr>\n",
       "  </tbody>\n",
       "</table>\n",
       "</div>"
      ],
      "text/plain": [
       "                             time     open     high      low    close  \\\n",
       "date                                                                    \n",
       "2019-10-25 14:00:00  1.572012e+12  7668.70  7694.44  7638.39  7668.80   \n",
       "2019-10-25 15:00:00  1.572016e+12  7669.80  8403.95  7668.12  8263.16   \n",
       "2019-10-25 16:00:00  1.572019e+12  8262.95  8490.00  8247.30  8393.21   \n",
       "2019-10-25 17:00:00  1.572023e+12  8394.14  8799.00  8353.00  8490.16   \n",
       "2019-10-25 18:00:00  1.572026e+12  8490.29  8660.00  8444.48  8622.00   \n",
       "\n",
       "                           volume  \n",
       "date                               \n",
       "2019-10-25 14:00:00   2656.628101  \n",
       "2019-10-25 15:00:00  12108.958777  \n",
       "2019-10-25 16:00:00  11619.200243  \n",
       "2019-10-25 17:00:00  14089.791229  \n",
       "2019-10-25 18:00:00   6783.939871  "
      ]
     },
     "execution_count": 70,
     "metadata": {},
     "output_type": "execute_result"
    }
   ],
   "source": [
    "new_df.set_index('date', inplace=True)\n",
    "new_df.head()"
   ]
  },
  {
   "cell_type": "code",
   "execution_count": null,
   "metadata": {},
   "outputs": [],
   "source": []
  },
  {
   "cell_type": "markdown",
   "metadata": {},
   "source": [
    "# ARIMA"
   ]
  },
  {
   "cell_type": "code",
   "execution_count": 70,
   "metadata": {},
   "outputs": [],
   "source": [
    "def evaluate_arima_model(X, arima_order):\n",
    "    '''\n",
    "    evaluate an ARIMA model for a given order (p,d,q)\n",
    "    '''\n",
    "    # prepare training dataset\n",
    "    train_size = int(len(X) * 0.66)\n",
    "    train, test = X[0:train_size], X[train_size:]\n",
    "    history = [x for x in train]\n",
    "    # make predictions\n",
    "    predictions = list()\n",
    "    for t in range(len(test)):\n",
    "        model = ARIMA(history, order=arima_order)\n",
    "        model_fit = model.fit(disp=0)\n",
    "        yhat = model_fit.forecast()[0]\n",
    "        predictions.append(yhat)\n",
    "        history.append(test[t])\n",
    "    # calculate out of sample error\n",
    "    error = mean_squared_error(test, predictions)\n",
    "    return error\n",
    " \n",
    "def evaluate_models(dataset, p_values, d_values, q_values):\n",
    "    '''\n",
    "     evaluate combinations of p, d and q values for an ARIMA model\n",
    "    '''\n",
    "    dataset = dataset.astype('float32')\n",
    "    best_score, best_cfg = float(\"inf\"), None\n",
    "    for p in p_values:\n",
    "        for d in d_values:\n",
    "            for q in q_values:\n",
    "                order = (p,d,q)\n",
    "                try:\n",
    "                    mse = evaluate_arima_model(dataset, order)\n",
    "                    if mse < best_score:\n",
    "                        best_score, best_cfg = mse, order\n",
    "                    print('ARIMA%s MSE=%.3f' % (order,mse))\n",
    "                except:\n",
    "                    continue\n",
    "    print('Best ARIMA%s MSE=%.3f' % (best_cfg, best_score))\n",
    "    return best_cfg"
   ]
  },
  {
   "cell_type": "code",
   "execution_count": 71,
   "metadata": {},
   "outputs": [
    {
     "data": {
      "text/plain": [
       "date\n",
       "2019-10-19 13:00:00    8011.29\n",
       "2019-10-19 14:00:00    8010.16\n",
       "2019-10-19 15:00:00    7990.92\n",
       "2019-10-19 16:00:00    7974.50\n",
       "2019-10-19 17:00:00    7998.64\n",
       "Name: close, dtype: float64"
      ]
     },
     "execution_count": 71,
     "metadata": {},
     "output_type": "execute_result"
    }
   ],
   "source": [
    "timeseries = new_df.groupby('date')['close'].mean()\n",
    "timeseries.head()"
   ]
  },
  {
   "cell_type": "code",
   "execution_count": 72,
   "metadata": {
    "scrolled": false
   },
   "outputs": [],
   "source": [
    "## evaluate parameters\n",
    "#p_values = [0, 1, 2]\n",
    "#d_values = range(0, 2)\n",
    "#q_values = range(0, 2)\n",
    "#warnings.filterwarnings(\"ignore\")\n",
    "#order = evaluate_models(timeseries.values, p_values, d_values, q_values)\n",
    "#\n",
    "#model= ARIMA(timeseries, order=order)\n",
    "#model_fit= model.fit(disp=False)\n",
    "#three_hours = model_fit.forecast(steps=3)"
   ]
  },
  {
   "cell_type": "code",
   "execution_count": 73,
   "metadata": {
    "scrolled": true
   },
   "outputs": [
    {
     "name": "stdout",
     "output_type": "stream",
     "text": [
      "                             ARIMA Model Results                              \n",
      "==============================================================================\n",
      "Dep. Variable:                D.close   No. Observations:                 2493\n",
      "Model:                 ARIMA(0, 1, 0)   Log Likelihood              -13423.481\n",
      "Method:                           css   S.D. of innovations             52.748\n",
      "Date:                Thu, 06 Feb 2020   AIC                          26850.963\n",
      "Time:                        14:14:48   BIC                          26862.605\n",
      "Sample:                             1   HQIC                         26855.190\n",
      "                                                                              \n",
      "==============================================================================\n",
      "                 coef    std err          z      P>|z|      [0.025      0.975]\n",
      "------------------------------------------------------------------------------\n",
      "const          0.6939      1.056      0.657      0.511      -1.377       2.765\n",
      "==============================================================================\n"
     ]
    },
    {
     "name": "stderr",
     "output_type": "stream",
     "text": [
      "C:\\Users\\luigi\\Anaconda3\\envs\\learn-env\\lib\\site-packages\\statsmodels\\tsa\\base\\tsa_model.py:219: ValueWarning: A date index has been provided, but it has no associated frequency information and so will be ignored when e.g. forecasting.\n",
      "  ' ignored when e.g. forecasting.', ValueWarning)\n",
      "C:\\Users\\luigi\\Anaconda3\\envs\\learn-env\\lib\\site-packages\\statsmodels\\tsa\\base\\tsa_model.py:219: ValueWarning: A date index has been provided, but it has no associated frequency information and so will be ignored when e.g. forecasting.\n",
      "  ' ignored when e.g. forecasting.', ValueWarning)\n"
     ]
    }
   ],
   "source": [
    "model = ARIMA(timeseries, order = (0,1,0))\n",
    "model_fit = model.fit()\n",
    "print(model_fit.summary())"
   ]
  },
  {
   "cell_type": "code",
   "execution_count": 179,
   "metadata": {
    "scrolled": true
   },
   "outputs": [
    {
     "data": {
      "text/plain": [
       "(array([9741.98394304, 9742.67788608, 9743.37182912, 9744.06577216,\n",
       "        9744.7597152 , 9745.45365824, 9746.14760128, 9746.84154432,\n",
       "        9747.53548736, 9748.22943041, 9748.92337345, 9749.61731649,\n",
       "        9750.31125953, 9751.00520257, 9751.69914561, 9752.39308865,\n",
       "        9753.08703169, 9753.78097473, 9754.47491777, 9755.16886081,\n",
       "        9755.86280385, 9756.55674689, 9757.25068993, 9757.94463297,\n",
       "        9758.63857601, 9759.33251905, 9760.02646209, 9760.72040513,\n",
       "        9761.41434817, 9762.10829122, 9762.80223426, 9763.4961773 ,\n",
       "        9764.19012034, 9764.88406338, 9765.57800642, 9766.27194946,\n",
       "        9766.9658925 , 9767.65983554, 9768.35377858, 9769.04772162,\n",
       "        9769.74166466, 9770.4356077 , 9771.12955074, 9771.82349378,\n",
       "        9772.51743682, 9773.21137986, 9773.9053229 , 9774.59926594]),\n",
       " array([ 52.74824563,  74.59728436,  91.36264144, 105.49649126,\n",
       "        117.94866292, 129.20628662, 139.55874003, 149.19456873,\n",
       "        158.24473689, 166.80459877, 174.94613911, 182.72528289,\n",
       "        190.18650431, 197.3658629 , 204.29307687, 210.99298252,\n",
       "        217.4865883 , 223.79185309, 229.92427215, 235.89732585,\n",
       "        241.72282838, 247.41120261, 252.9716992 , 258.41257325,\n",
       "        263.74122815, 268.96433378, 274.08792433, 279.11748007,\n",
       "        284.05799601, 288.91404001, 293.68980223, 298.38913745,\n",
       "        303.01560152, 307.57248281, 312.06282957, 316.48947379,\n",
       "        320.85505206, 325.162024  , 329.41268838, 333.60919754,\n",
       "        337.75357008, 341.84770223, 345.89337799, 349.89227821,\n",
       "        353.84598877, 357.7560079 , 361.62375282, 365.45056577]),\n",
       " array([[ 9638.59928136,  9845.36860472],\n",
       "        [ 9596.46989539,  9888.88587678],\n",
       "        [ 9564.30434236,  9922.43931588],\n",
       "        [ 9537.29644879,  9950.83509553],\n",
       "        [ 9513.58458385,  9975.93484656],\n",
       "        [ 9492.21398989,  9998.6933266 ],\n",
       "        [ 9472.61749709, 10019.67770548],\n",
       "        [ 9454.42556293, 10039.25752571],\n",
       "        [ 9437.38150231, 10057.68947242],\n",
       "        [ 9421.29842436, 10075.16043645],\n",
       "        [ 9406.03524156, 10091.81150533],\n",
       "        [ 9391.48234296, 10107.75229001],\n",
       "        [ 9377.55256073, 10123.06995833],\n",
       "        [ 9364.1752195 , 10137.83518564],\n",
       "        [ 9351.29207265, 10152.10621856],\n",
       "        [ 9338.85444191, 10165.93173539],\n",
       "        [ 9326.8211515 , 10179.35291188],\n",
       "        [ 9315.15700264, 10192.40494682],\n",
       "        [ 9303.83162518, 10205.11821036],\n",
       "        [ 9292.8185981 , 10217.51912352],\n",
       "        [ 9282.09476598, 10229.63084172],\n",
       "        [ 9271.6397004 , 10241.47379338],\n",
       "        [ 9261.4352704 , 10253.06610946],\n",
       "        [ 9251.46529626, 10264.42396969],\n",
       "        [ 9241.71526759, 10275.56188443],\n",
       "        [ 9232.17211172, 10286.49292639],\n",
       "        [ 9222.82400181, 10297.22892238],\n",
       "        [ 9213.66019674, 10307.78061353],\n",
       "        [ 9204.67090647, 10318.15778987],\n",
       "        [ 9195.84717817, 10328.36940426],\n",
       "        [ 9187.18079927, 10338.42366925],\n",
       "        [ 9178.66421451, 10348.32814008],\n",
       "        [ 9170.2904546 , 10358.08978607],\n",
       "        [ 9162.05307443, 10367.71505232],\n",
       "        [ 9153.94609954, 10377.20991329],\n",
       "        [ 9145.96397935, 10386.57991956],\n",
       "        [ 9138.1015462 , 10395.8302388 ],\n",
       "        [ 9130.35397936, 10404.96569172],\n",
       "        [ 9122.7167733 , 10413.99078386],\n",
       "        [ 9115.18570952, 10422.90973372],\n",
       "        [ 9107.75683165, 10431.72649767],\n",
       "        [ 9100.42642313, 10440.44479227],\n",
       "        [ 9093.19098739, 10449.06811409],\n",
       "        [ 9086.04723001, 10457.59975755],\n",
       "        [ 9078.99204275, 10466.04283089],\n",
       "        [ 9072.02248913, 10474.4002706 ],\n",
       "        [ 9065.13579142, 10482.67485439],\n",
       "        [ 9058.3293189 , 10490.86921299]]))"
      ]
     },
     "execution_count": 179,
     "metadata": {},
     "output_type": "execute_result"
    }
   ],
   "source": [
    "two_days = model_fit.forecast(steps=48)\n",
    "two_days"
   ]
  },
  {
   "cell_type": "code",
   "execution_count": 180,
   "metadata": {},
   "outputs": [],
   "source": [
    "pred_df = pd.DataFrame({'Prediction':three_hours[0], 'Upper Bound':three_hours[2][:,1], 'Lower Bound':three_hours[2][:,0]})"
   ]
  },
  {
   "cell_type": "code",
   "execution_count": 181,
   "metadata": {},
   "outputs": [
    {
     "data": {
      "text/html": [
       "<div>\n",
       "<style scoped>\n",
       "    .dataframe tbody tr th:only-of-type {\n",
       "        vertical-align: middle;\n",
       "    }\n",
       "\n",
       "    .dataframe tbody tr th {\n",
       "        vertical-align: top;\n",
       "    }\n",
       "\n",
       "    .dataframe thead th {\n",
       "        text-align: right;\n",
       "    }\n",
       "</style>\n",
       "<table border=\"1\" class=\"dataframe\">\n",
       "  <thead>\n",
       "    <tr style=\"text-align: right;\">\n",
       "      <th></th>\n",
       "      <th>Prediction</th>\n",
       "      <th>Upper Bound</th>\n",
       "      <th>Lower Bound</th>\n",
       "    </tr>\n",
       "  </thead>\n",
       "  <tbody>\n",
       "    <tr>\n",
       "      <th>0</th>\n",
       "      <td>9741.983943</td>\n",
       "      <td>9845.368605</td>\n",
       "      <td>9638.599281</td>\n",
       "    </tr>\n",
       "    <tr>\n",
       "      <th>1</th>\n",
       "      <td>9742.677886</td>\n",
       "      <td>9888.885877</td>\n",
       "      <td>9596.469895</td>\n",
       "    </tr>\n",
       "    <tr>\n",
       "      <th>2</th>\n",
       "      <td>9743.371829</td>\n",
       "      <td>9922.439316</td>\n",
       "      <td>9564.304342</td>\n",
       "    </tr>\n",
       "    <tr>\n",
       "      <th>3</th>\n",
       "      <td>9744.065772</td>\n",
       "      <td>9950.835096</td>\n",
       "      <td>9537.296449</td>\n",
       "    </tr>\n",
       "    <tr>\n",
       "      <th>4</th>\n",
       "      <td>9744.759715</td>\n",
       "      <td>9975.934847</td>\n",
       "      <td>9513.584584</td>\n",
       "    </tr>\n",
       "  </tbody>\n",
       "</table>\n",
       "</div>"
      ],
      "text/plain": [
       "    Prediction  Upper Bound  Lower Bound\n",
       "0  9741.983943  9845.368605  9638.599281\n",
       "1  9742.677886  9888.885877  9596.469895\n",
       "2  9743.371829  9922.439316  9564.304342\n",
       "3  9744.065772  9950.835096  9537.296449\n",
       "4  9744.759715  9975.934847  9513.584584"
      ]
     },
     "execution_count": 181,
     "metadata": {},
     "output_type": "execute_result"
    }
   ],
   "source": [
    "pred_df.head()"
   ]
  },
  {
   "cell_type": "markdown",
   "metadata": {},
   "source": [
    "# random walh 0,1,0\n",
    "past points don't affect present"
   ]
  },
  {
   "cell_type": "code",
   "execution_count": 182,
   "metadata": {},
   "outputs": [
    {
     "data": {
      "image/png": "[encoded data removed]",
      "text/plain": [
       "<Figure size 432x288 with 1 Axes>"
      ]
     },
     "metadata": {},
     "output_type": "display_data"
    }
   ],
   "source": [
    "model_fit.plot_predict();"
   ]
  },
  {
   "cell_type": "code",
   "execution_count": 183,
   "metadata": {},
   "outputs": [],
   "source": [
    "def arimamodel(timeseries):\n",
    "    automodel = pm.auto_arima(timeseries, \n",
    "                              start_p=1, \n",
    "                              start_q=1,\n",
    "                              test=\"adf\",\n",
    "                              seasonal=False,\n",
    "                              trace=True)\n",
    "    return automodel"
   ]
  },
  {
   "cell_type": "code",
   "execution_count": 184,
   "metadata": {},
   "outputs": [],
   "source": [
    "def plotarima(n_periods, timeseries, automodel):\n",
    "    # Forecast\n",
    "    #fc, confint = automodel.predict(n_periods=n_periods, \n",
    "     #                               return_conf_int=True)\n",
    "    # Weekly index\n",
    "    fc_ind = pd.date_range(timeseries.index[timeseries.shape[0]-1], \n",
    "                           periods=n_periods, freq=\"h\")\n",
    "    # Forecast series\n",
    "    fc_series = pd.Series(three_hours[0], index=fc_ind)\n",
    "    # Upper and lower confidence bounds\n",
    "    lower_series = pd.Series(three_hours[2][:,0], index=fc_ind)\n",
    "    upper_series = pd.Series(three_hours[2][:,1], index=fc_ind)\n",
    "    # Create plot\n",
    "    plt.figure(figsize=(20,10))\n",
    "    plt.plot(timeseries)\n",
    "    plt.plot(fc_series, color=\"blue\")\n",
    "    plt.xlabel(\"date\")\n",
    "    plt.ylabel(timeseries.name)\n",
    "    plt.fill_between(lower_series.index, \n",
    "                     lower_series, \n",
    "                     upper_series, \n",
    "                     color=\"k\", \n",
    "                     alpha=0.25)\n",
    "    plt.legend((\"past\", \"forecast\", \"95% confidence interval\"),  \n",
    "               loc=\"upper left\")\n",
    "    plt.show();"
   ]
  },
  {
   "cell_type": "code",
   "execution_count": 185,
   "metadata": {},
   "outputs": [
    {
     "name": "stdout",
     "output_type": "stream",
     "text": [
      "Fit ARIMA: order=(1, 1, 1) seasonal_order=(0, 0, 0, 0); AIC=26852.016, BIC=26875.301, Fit time=0.178 seconds\n",
      "Fit ARIMA: order=(0, 1, 0) seasonal_order=(0, 0, 0, 0); AIC=26850.963, BIC=26862.605, Fit time=0.054 seconds\n",
      "Fit ARIMA: order=(1, 1, 0) seasonal_order=(0, 0, 0, 0); AIC=26850.300, BIC=26867.763, Fit time=0.134 seconds\n",
      "Fit ARIMA: order=(0, 1, 1) seasonal_order=(0, 0, 0, 0); AIC=26850.252, BIC=26867.716, Fit time=0.324 seconds\n",
      "Fit ARIMA: order=(0, 1, 0) seasonal_order=(0, 0, 0, 0); AIC=26849.394, BIC=26855.216, Fit time=0.028 seconds\n",
      "Total fit time: 0.729 seconds\n"
     ]
    }
   ],
   "source": [
    "automodel = arimamodel(timeseries)"
   ]
  },
  {
   "cell_type": "markdown",
   "metadata": {},
   "source": [
    "### In statistics, the Bayesian information criterion (BIC) or Schwarz information criterion (also SIC, SBC, SBIC) is a criterion for model selection among a finite set of models; the model with the lowest BIC is preferred."
   ]
  },
  {
   "cell_type": "code",
   "execution_count": 186,
   "metadata": {},
   "outputs": [
    {
     "data": {
      "text/html": [
       "<table class=\"simpletable\">\n",
       "<caption>Statespace Model Results</caption>\n",
       "<tr>\n",
       "  <th>Dep. Variable:</th>           <td>y</td>        <th>  No. Observations:  </th>    <td>2494</td>   \n",
       "</tr>\n",
       "<tr>\n",
       "  <th>Model:</th>           <td>SARIMAX(0, 1, 0)</td> <th>  Log Likelihood     </th> <td>-13423.697</td>\n",
       "</tr>\n",
       "<tr>\n",
       "  <th>Date:</th>            <td>Thu, 06 Feb 2020</td> <th>  AIC                </th>  <td>26849.394</td>\n",
       "</tr>\n",
       "<tr>\n",
       "  <th>Time:</th>                <td>15:07:59</td>     <th>  BIC                </th>  <td>26855.216</td>\n",
       "</tr>\n",
       "<tr>\n",
       "  <th>Sample:</th>                  <td>0</td>        <th>  HQIC               </th>  <td>26851.508</td>\n",
       "</tr>\n",
       "<tr>\n",
       "  <th></th>                      <td> - 2494</td>     <th>                     </th>      <td> </td>    \n",
       "</tr>\n",
       "<tr>\n",
       "  <th>Covariance Type:</th>        <td>opg</td>       <th>                     </th>      <td> </td>    \n",
       "</tr>\n",
       "</table>\n",
       "<table class=\"simpletable\">\n",
       "<tr>\n",
       "     <td></td>       <th>coef</th>     <th>std err</th>      <th>z</th>      <th>P>|z|</th>  <th>[0.025</th>    <th>0.975]</th>  \n",
       "</tr>\n",
       "<tr>\n",
       "  <th>sigma2</th> <td> 2781.7432</td> <td>   15.073</td> <td>  184.547</td> <td> 0.000</td> <td> 2752.200</td> <td> 2811.286</td>\n",
       "</tr>\n",
       "</table>\n",
       "<table class=\"simpletable\">\n",
       "<tr>\n",
       "  <th>Ljung-Box (Q):</th>          <td>68.87</td> <th>  Jarque-Bera (JB):  </th> <td>289885.28</td>\n",
       "</tr>\n",
       "<tr>\n",
       "  <th>Prob(Q):</th>                <td>0.00</td>  <th>  Prob(JB):          </th>   <td>0.00</td>   \n",
       "</tr>\n",
       "<tr>\n",
       "  <th>Heteroskedasticity (H):</th> <td>0.60</td>  <th>  Skew:              </th>   <td>3.13</td>   \n",
       "</tr>\n",
       "<tr>\n",
       "  <th>Prob(H) (two-sided):</th>    <td>0.00</td>  <th>  Kurtosis:          </th>   <td>55.45</td>  \n",
       "</tr>\n",
       "</table><br/><br/>Warnings:<br/>[1] Covariance matrix calculated using the outer product of gradients (complex-step)."
      ],
      "text/plain": [
       "<class 'statsmodels.iolib.summary.Summary'>\n",
       "\"\"\"\n",
       "                           Statespace Model Results                           \n",
       "==============================================================================\n",
       "Dep. Variable:                      y   No. Observations:                 2494\n",
       "Model:               SARIMAX(0, 1, 0)   Log Likelihood              -13423.697\n",
       "Date:                Thu, 06 Feb 2020   AIC                          26849.394\n",
       "Time:                        15:07:59   BIC                          26855.216\n",
       "Sample:                             0   HQIC                         26851.508\n",
       "                               - 2494                                         \n",
       "Covariance Type:                  opg                                         \n",
       "==============================================================================\n",
       "                 coef    std err          z      P>|z|      [0.025      0.975]\n",
       "------------------------------------------------------------------------------\n",
       "sigma2      2781.7432     15.073    184.547      0.000    2752.200    2811.286\n",
       "===================================================================================\n",
       "Ljung-Box (Q):                       68.87   Jarque-Bera (JB):            289885.28\n",
       "Prob(Q):                              0.00   Prob(JB):                         0.00\n",
       "Heteroskedasticity (H):               0.60   Skew:                             3.13\n",
       "Prob(H) (two-sided):                  0.00   Kurtosis:                        55.45\n",
       "===================================================================================\n",
       "\n",
       "Warnings:\n",
       "[1] Covariance matrix calculated using the outer product of gradients (complex-step).\n",
       "\"\"\""
      ]
     },
     "execution_count": 186,
     "metadata": {},
     "output_type": "execute_result"
    }
   ],
   "source": [
    "automodel.summary()"
   ]
  },
  {
   "cell_type": "code",
   "execution_count": 188,
   "metadata": {},
   "outputs": [
    {
     "data": {
      "image/png": "[encoded data removed]",
      "text/plain": [
       "<Figure size 1440x720 with 1 Axes>"
      ]
     },
     "metadata": {},
     "output_type": "display_data"
    }
   ],
   "source": [
    "plotarima(48, timeseries, automodel);"
   ]
  },
  {
   "cell_type": "code",
   "execution_count": 83,
   "metadata": {},
   "outputs": [],
   "source": [
    "#def plotarima(n_periods, timeseries, automodel):\n",
    "#    # Forecast\n",
    "#    fc, confint = automodel.predict(n_periods=n_periods, \n",
    "#                                    return_conf_int=True)\n",
    "#    # Hourly index\n",
    "#    fc_ind = pd.date_range(timeseries.index[timeseries.shape[0]-1], \n",
    "#                           periods=n_periods, freq=\"h\")\n",
    "#    # Forecast series\n",
    "#    fc_series = pd.Series(fc, index=fc_ind)\n",
    "#    # Upper and lower confidence bounds\n",
    "#    lower_series = pd.Series(confint[:, 0], index=fc_ind)\n",
    "#    upper_series = pd.Series(confint[:, 1], index=fc_ind)\n",
    "#    # Create plot\n",
    "#    plt.figure(figsize=(10, 6))\n",
    "#    plt.plot(timeseries)\n",
    "#    plt.plot(fc_series, color=\"red\")\n",
    "#    plt.xlabel(\"date\")\n",
    "#    plt.ylabel(timeseries.name)\n",
    "#    plt.fill_between(lower_series.index, \n",
    "#                     lower_series, \n",
    "#                     upper_series, \n",
    "#                     color=\"k\", \n",
    "#                     alpha=0.25)\n",
    "#    plt.legend((\"past\", \"forecast\", \"95% confidence interval\"),  \n",
    "#               loc=\"upper left\")\n",
    "#    plt.show()\n",
    "#    plt.close()"
   ]
  },
  {
   "cell_type": "markdown",
   "metadata": {},
   "source": [
    "# MOVING AVG"
   ]
  },
  {
   "cell_type": "code",
   "execution_count": 84,
   "metadata": {},
   "outputs": [],
   "source": [
    "#new_df['100ma'] = new_df['close'].rolling(window=100, min_periods=0).mean()\n",
    "#new_df.tail()"
   ]
  },
  {
   "cell_type": "code",
   "execution_count": 193,
   "metadata": {},
   "outputs": [
    {
     "data": {
      "text/html": [
       "<div>\n",
       "<style scoped>\n",
       "    .dataframe tbody tr th:only-of-type {\n",
       "        vertical-align: middle;\n",
       "    }\n",
       "\n",
       "    .dataframe tbody tr th {\n",
       "        vertical-align: top;\n",
       "    }\n",
       "\n",
       "    .dataframe thead th {\n",
       "        text-align: right;\n",
       "    }\n",
       "</style>\n",
       "<table border=\"1\" class=\"dataframe\">\n",
       "  <thead>\n",
       "    <tr style=\"text-align: right;\">\n",
       "      <th></th>\n",
       "      <th>open</th>\n",
       "      <th>high</th>\n",
       "      <th>low</th>\n",
       "      <th>close</th>\n",
       "      <th>volume</th>\n",
       "    </tr>\n",
       "    <tr>\n",
       "      <th>date</th>\n",
       "      <th></th>\n",
       "      <th></th>\n",
       "      <th></th>\n",
       "      <th></th>\n",
       "      <th></th>\n",
       "    </tr>\n",
       "  </thead>\n",
       "  <tbody>\n",
       "    <tr>\n",
       "      <th>2019-10-19 13:00:00</th>\n",
       "      <td>8039.23</td>\n",
       "      <td>8078.54</td>\n",
       "      <td>8003.11</td>\n",
       "      <td>8011.29</td>\n",
       "      <td>2567.885982</td>\n",
       "    </tr>\n",
       "    <tr>\n",
       "      <th>2019-10-19 14:00:00</th>\n",
       "      <td>8012.87</td>\n",
       "      <td>8027.77</td>\n",
       "      <td>7993.64</td>\n",
       "      <td>8010.16</td>\n",
       "      <td>1023.034223</td>\n",
       "    </tr>\n",
       "    <tr>\n",
       "      <th>2019-10-19 15:00:00</th>\n",
       "      <td>8010.16</td>\n",
       "      <td>8021.00</td>\n",
       "      <td>7975.66</td>\n",
       "      <td>7990.92</td>\n",
       "      <td>1019.426773</td>\n",
       "    </tr>\n",
       "    <tr>\n",
       "      <th>2019-10-19 16:00:00</th>\n",
       "      <td>7993.26</td>\n",
       "      <td>7999.20</td>\n",
       "      <td>7937.69</td>\n",
       "      <td>7974.50</td>\n",
       "      <td>1499.435801</td>\n",
       "    </tr>\n",
       "    <tr>\n",
       "      <th>2019-10-19 17:00:00</th>\n",
       "      <td>7972.63</td>\n",
       "      <td>7999.38</td>\n",
       "      <td>7962.03</td>\n",
       "      <td>7998.64</td>\n",
       "      <td>767.867665</td>\n",
       "    </tr>\n",
       "    <tr>\n",
       "      <th>2019-10-19 18:00:00</th>\n",
       "      <td>7996.03</td>\n",
       "      <td>7999.34</td>\n",
       "      <td>7972.33</td>\n",
       "      <td>7976.16</td>\n",
       "      <td>676.884982</td>\n",
       "    </tr>\n",
       "    <tr>\n",
       "      <th>2019-10-19 19:00:00</th>\n",
       "      <td>7975.77</td>\n",
       "      <td>7983.33</td>\n",
       "      <td>7958.13</td>\n",
       "      <td>7971.81</td>\n",
       "      <td>663.314219</td>\n",
       "    </tr>\n",
       "    <tr>\n",
       "      <th>2019-10-19 20:00:00</th>\n",
       "      <td>7972.19</td>\n",
       "      <td>7978.52</td>\n",
       "      <td>7902.20</td>\n",
       "      <td>7940.81</td>\n",
       "      <td>1291.598333</td>\n",
       "    </tr>\n",
       "    <tr>\n",
       "      <th>2019-10-19 21:00:00</th>\n",
       "      <td>7940.66</td>\n",
       "      <td>7960.00</td>\n",
       "      <td>7891.76</td>\n",
       "      <td>7944.55</td>\n",
       "      <td>1072.810254</td>\n",
       "    </tr>\n",
       "    <tr>\n",
       "      <th>2019-10-19 22:00:00</th>\n",
       "      <td>7945.63</td>\n",
       "      <td>7949.09</td>\n",
       "      <td>7920.80</td>\n",
       "      <td>7937.76</td>\n",
       "      <td>633.079178</td>\n",
       "    </tr>\n",
       "    <tr>\n",
       "      <th>2019-10-19 23:00:00</th>\n",
       "      <td>7937.78</td>\n",
       "      <td>7954.99</td>\n",
       "      <td>7926.17</td>\n",
       "      <td>7948.01</td>\n",
       "      <td>537.450950</td>\n",
       "    </tr>\n",
       "    <tr>\n",
       "      <th>2019-10-20 00:00:00</th>\n",
       "      <td>7949.87</td>\n",
       "      <td>7953.21</td>\n",
       "      <td>7891.16</td>\n",
       "      <td>7917.55</td>\n",
       "      <td>1333.008698</td>\n",
       "    </tr>\n",
       "    <tr>\n",
       "      <th>2019-10-20 01:00:00</th>\n",
       "      <td>7917.55</td>\n",
       "      <td>7927.36</td>\n",
       "      <td>7881.00</td>\n",
       "      <td>7904.64</td>\n",
       "      <td>1186.897622</td>\n",
       "    </tr>\n",
       "    <tr>\n",
       "      <th>2019-10-20 02:00:00</th>\n",
       "      <td>7904.67</td>\n",
       "      <td>7924.99</td>\n",
       "      <td>7870.00</td>\n",
       "      <td>7895.79</td>\n",
       "      <td>1383.499055</td>\n",
       "    </tr>\n",
       "    <tr>\n",
       "      <th>2019-10-20 03:00:00</th>\n",
       "      <td>7895.79</td>\n",
       "      <td>7918.02</td>\n",
       "      <td>7889.98</td>\n",
       "      <td>7901.68</td>\n",
       "      <td>761.650508</td>\n",
       "    </tr>\n",
       "    <tr>\n",
       "      <th>2019-10-20 04:00:00</th>\n",
       "      <td>7902.09</td>\n",
       "      <td>7934.96</td>\n",
       "      <td>7899.14</td>\n",
       "      <td>7917.99</td>\n",
       "      <td>689.945640</td>\n",
       "    </tr>\n",
       "    <tr>\n",
       "      <th>2019-10-20 05:00:00</th>\n",
       "      <td>7917.81</td>\n",
       "      <td>7926.50</td>\n",
       "      <td>7902.10</td>\n",
       "      <td>7912.11</td>\n",
       "      <td>461.714257</td>\n",
       "    </tr>\n",
       "    <tr>\n",
       "      <th>2019-10-20 06:00:00</th>\n",
       "      <td>7910.87</td>\n",
       "      <td>7940.47</td>\n",
       "      <td>7902.00</td>\n",
       "      <td>7928.05</td>\n",
       "      <td>504.719646</td>\n",
       "    </tr>\n",
       "    <tr>\n",
       "      <th>2019-10-20 07:00:00</th>\n",
       "      <td>7928.05</td>\n",
       "      <td>7935.94</td>\n",
       "      <td>7900.22</td>\n",
       "      <td>7905.17</td>\n",
       "      <td>751.587636</td>\n",
       "    </tr>\n",
       "    <tr>\n",
       "      <th>2019-10-20 08:00:00</th>\n",
       "      <td>7907.14</td>\n",
       "      <td>7929.75</td>\n",
       "      <td>7883.00</td>\n",
       "      <td>7925.20</td>\n",
       "      <td>995.933510</td>\n",
       "    </tr>\n",
       "    <tr>\n",
       "      <th>2019-10-20 09:00:00</th>\n",
       "      <td>7924.49</td>\n",
       "      <td>7985.00</td>\n",
       "      <td>7915.00</td>\n",
       "      <td>7944.93</td>\n",
       "      <td>1782.699277</td>\n",
       "    </tr>\n",
       "    <tr>\n",
       "      <th>2019-10-20 10:00:00</th>\n",
       "      <td>7944.93</td>\n",
       "      <td>7961.00</td>\n",
       "      <td>7920.00</td>\n",
       "      <td>7929.70</td>\n",
       "      <td>905.539501</td>\n",
       "    </tr>\n",
       "    <tr>\n",
       "      <th>2019-10-20 11:00:00</th>\n",
       "      <td>7929.95</td>\n",
       "      <td>7948.50</td>\n",
       "      <td>7925.85</td>\n",
       "      <td>7942.99</td>\n",
       "      <td>614.143683</td>\n",
       "    </tr>\n",
       "    <tr>\n",
       "      <th>2019-10-20 12:00:00</th>\n",
       "      <td>7942.99</td>\n",
       "      <td>7990.00</td>\n",
       "      <td>7936.32</td>\n",
       "      <td>7950.06</td>\n",
       "      <td>1659.857866</td>\n",
       "    </tr>\n",
       "    <tr>\n",
       "      <th>2019-10-20 13:00:00</th>\n",
       "      <td>7951.03</td>\n",
       "      <td>7978.00</td>\n",
       "      <td>7950.01</td>\n",
       "      <td>7957.34</td>\n",
       "      <td>958.977112</td>\n",
       "    </tr>\n",
       "    <tr>\n",
       "      <th>2019-10-20 14:00:00</th>\n",
       "      <td>7957.23</td>\n",
       "      <td>8011.95</td>\n",
       "      <td>7951.95</td>\n",
       "      <td>8000.79</td>\n",
       "      <td>1972.863301</td>\n",
       "    </tr>\n",
       "    <tr>\n",
       "      <th>2019-10-20 15:00:00</th>\n",
       "      <td>8001.10</td>\n",
       "      <td>8043.44</td>\n",
       "      <td>7982.31</td>\n",
       "      <td>8026.46</td>\n",
       "      <td>1881.276161</td>\n",
       "    </tr>\n",
       "    <tr>\n",
       "      <th>2019-10-20 16:00:00</th>\n",
       "      <td>8026.47</td>\n",
       "      <td>8077.00</td>\n",
       "      <td>8006.45</td>\n",
       "      <td>8066.33</td>\n",
       "      <td>2508.980707</td>\n",
       "    </tr>\n",
       "    <tr>\n",
       "      <th>2019-10-20 17:00:00</th>\n",
       "      <td>8065.51</td>\n",
       "      <td>8172.73</td>\n",
       "      <td>8046.43</td>\n",
       "      <td>8139.77</td>\n",
       "      <td>3427.912706</td>\n",
       "    </tr>\n",
       "    <tr>\n",
       "      <th>2019-10-20 18:00:00</th>\n",
       "      <td>8139.87</td>\n",
       "      <td>8174.88</td>\n",
       "      <td>8126.65</td>\n",
       "      <td>8132.34</td>\n",
       "      <td>1728.774415</td>\n",
       "    </tr>\n",
       "    <tr>\n",
       "      <th>...</th>\n",
       "      <td>...</td>\n",
       "      <td>...</td>\n",
       "      <td>...</td>\n",
       "      <td>...</td>\n",
       "      <td>...</td>\n",
       "    </tr>\n",
       "    <tr>\n",
       "      <th>2020-01-10 18:00:00</th>\n",
       "      <td>7966.30</td>\n",
       "      <td>8113.53</td>\n",
       "      <td>7966.30</td>\n",
       "      <td>8022.16</td>\n",
       "      <td>6172.791013</td>\n",
       "    </tr>\n",
       "    <tr>\n",
       "      <th>2020-01-16 19:00:00</th>\n",
       "      <td>8684.00</td>\n",
       "      <td>8718.00</td>\n",
       "      <td>8675.00</td>\n",
       "      <td>8705.00</td>\n",
       "      <td>1232.068523</td>\n",
       "    </tr>\n",
       "    <tr>\n",
       "      <th>2020-01-16 20:00:00</th>\n",
       "      <td>8705.01</td>\n",
       "      <td>8750.00</td>\n",
       "      <td>8690.00</td>\n",
       "      <td>8744.00</td>\n",
       "      <td>1550.084023</td>\n",
       "    </tr>\n",
       "    <tr>\n",
       "      <th>2020-01-16 21:00:00</th>\n",
       "      <td>8742.94</td>\n",
       "      <td>8757.00</td>\n",
       "      <td>8672.00</td>\n",
       "      <td>8691.15</td>\n",
       "      <td>2129.935623</td>\n",
       "    </tr>\n",
       "    <tr>\n",
       "      <th>2020-01-16 22:00:00</th>\n",
       "      <td>8691.17</td>\n",
       "      <td>8743.21</td>\n",
       "      <td>8690.15</td>\n",
       "      <td>8720.38</td>\n",
       "      <td>1783.581937</td>\n",
       "    </tr>\n",
       "    <tr>\n",
       "      <th>2020-01-16 23:00:00</th>\n",
       "      <td>8720.34</td>\n",
       "      <td>8748.00</td>\n",
       "      <td>8712.39</td>\n",
       "      <td>8720.01</td>\n",
       "      <td>860.060470</td>\n",
       "    </tr>\n",
       "    <tr>\n",
       "      <th>2020-01-17 00:00:00</th>\n",
       "      <td>8720.15</td>\n",
       "      <td>8743.99</td>\n",
       "      <td>8672.44</td>\n",
       "      <td>8690.31</td>\n",
       "      <td>1988.852577</td>\n",
       "    </tr>\n",
       "    <tr>\n",
       "      <th>2020-01-17 01:00:00</th>\n",
       "      <td>8690.25</td>\n",
       "      <td>8738.80</td>\n",
       "      <td>8677.01</td>\n",
       "      <td>8738.51</td>\n",
       "      <td>1156.787342</td>\n",
       "    </tr>\n",
       "    <tr>\n",
       "      <th>2020-01-17 02:00:00</th>\n",
       "      <td>8738.80</td>\n",
       "      <td>8780.00</td>\n",
       "      <td>8718.16</td>\n",
       "      <td>8757.06</td>\n",
       "      <td>2083.041074</td>\n",
       "    </tr>\n",
       "    <tr>\n",
       "      <th>2020-01-17 03:00:00</th>\n",
       "      <td>8757.29</td>\n",
       "      <td>8840.40</td>\n",
       "      <td>8751.05</td>\n",
       "      <td>8786.43</td>\n",
       "      <td>3103.062255</td>\n",
       "    </tr>\n",
       "    <tr>\n",
       "      <th>2020-01-17 04:00:00</th>\n",
       "      <td>8786.43</td>\n",
       "      <td>8815.86</td>\n",
       "      <td>8760.00</td>\n",
       "      <td>8815.29</td>\n",
       "      <td>2088.680278</td>\n",
       "    </tr>\n",
       "    <tr>\n",
       "      <th>2020-01-17 05:00:00</th>\n",
       "      <td>8815.27</td>\n",
       "      <td>8896.89</td>\n",
       "      <td>8791.06</td>\n",
       "      <td>8891.25</td>\n",
       "      <td>4726.039349</td>\n",
       "    </tr>\n",
       "    <tr>\n",
       "      <th>2020-01-17 06:00:00</th>\n",
       "      <td>8891.25</td>\n",
       "      <td>8997.00</td>\n",
       "      <td>8835.75</td>\n",
       "      <td>8862.70</td>\n",
       "      <td>7987.080952</td>\n",
       "    </tr>\n",
       "    <tr>\n",
       "      <th>2020-01-17 07:00:00</th>\n",
       "      <td>8862.70</td>\n",
       "      <td>8950.36</td>\n",
       "      <td>8843.01</td>\n",
       "      <td>8933.95</td>\n",
       "      <td>2782.157035</td>\n",
       "    </tr>\n",
       "    <tr>\n",
       "      <th>2020-01-17 08:00:00</th>\n",
       "      <td>8935.54</td>\n",
       "      <td>8999.00</td>\n",
       "      <td>8899.26</td>\n",
       "      <td>8928.85</td>\n",
       "      <td>4796.986200</td>\n",
       "    </tr>\n",
       "    <tr>\n",
       "      <th>2020-01-17 09:00:00</th>\n",
       "      <td>8927.71</td>\n",
       "      <td>8986.27</td>\n",
       "      <td>8924.30</td>\n",
       "      <td>8969.00</td>\n",
       "      <td>2514.231703</td>\n",
       "    </tr>\n",
       "    <tr>\n",
       "      <th>2020-01-17 10:00:00</th>\n",
       "      <td>8969.36</td>\n",
       "      <td>9041.65</td>\n",
       "      <td>8880.50</td>\n",
       "      <td>8937.00</td>\n",
       "      <td>6163.066542</td>\n",
       "    </tr>\n",
       "    <tr>\n",
       "      <th>2020-01-17 11:00:00</th>\n",
       "      <td>8937.00</td>\n",
       "      <td>8962.28</td>\n",
       "      <td>8890.97</td>\n",
       "      <td>8903.45</td>\n",
       "      <td>2483.889697</td>\n",
       "    </tr>\n",
       "    <tr>\n",
       "      <th>2020-01-17 12:00:00</th>\n",
       "      <td>8903.53</td>\n",
       "      <td>8919.41</td>\n",
       "      <td>8765.00</td>\n",
       "      <td>8811.54</td>\n",
       "      <td>4987.553512</td>\n",
       "    </tr>\n",
       "    <tr>\n",
       "      <th>2020-01-17 13:00:00</th>\n",
       "      <td>8808.17</td>\n",
       "      <td>8865.07</td>\n",
       "      <td>8800.00</td>\n",
       "      <td>8850.99</td>\n",
       "      <td>2011.840217</td>\n",
       "    </tr>\n",
       "    <tr>\n",
       "      <th>2020-01-17 14:00:00</th>\n",
       "      <td>8851.00</td>\n",
       "      <td>8852.92</td>\n",
       "      <td>8769.42</td>\n",
       "      <td>8778.69</td>\n",
       "      <td>2562.245240</td>\n",
       "    </tr>\n",
       "    <tr>\n",
       "      <th>2020-01-17 15:00:00</th>\n",
       "      <td>8778.69</td>\n",
       "      <td>8867.29</td>\n",
       "      <td>8774.00</td>\n",
       "      <td>8850.83</td>\n",
       "      <td>2041.345434</td>\n",
       "    </tr>\n",
       "    <tr>\n",
       "      <th>2020-01-17 16:00:00</th>\n",
       "      <td>8851.39</td>\n",
       "      <td>8923.88</td>\n",
       "      <td>8837.97</td>\n",
       "      <td>8875.96</td>\n",
       "      <td>3259.996818</td>\n",
       "    </tr>\n",
       "    <tr>\n",
       "      <th>2020-01-17 17:00:00</th>\n",
       "      <td>8875.96</td>\n",
       "      <td>8919.42</td>\n",
       "      <td>8855.81</td>\n",
       "      <td>8890.97</td>\n",
       "      <td>2119.032980</td>\n",
       "    </tr>\n",
       "    <tr>\n",
       "      <th>2020-01-17 18:00:00</th>\n",
       "      <td>8890.04</td>\n",
       "      <td>8954.49</td>\n",
       "      <td>8882.59</td>\n",
       "      <td>8920.12</td>\n",
       "      <td>2285.881189</td>\n",
       "    </tr>\n",
       "    <tr>\n",
       "      <th>2020-01-17 19:00:00</th>\n",
       "      <td>8920.50</td>\n",
       "      <td>8955.55</td>\n",
       "      <td>8813.00</td>\n",
       "      <td>8879.71</td>\n",
       "      <td>3260.055013</td>\n",
       "    </tr>\n",
       "    <tr>\n",
       "      <th>2020-01-17 20:00:00</th>\n",
       "      <td>8879.63</td>\n",
       "      <td>8934.77</td>\n",
       "      <td>8861.66</td>\n",
       "      <td>8879.64</td>\n",
       "      <td>1950.817509</td>\n",
       "    </tr>\n",
       "    <tr>\n",
       "      <th>2020-01-17 21:00:00</th>\n",
       "      <td>8879.74</td>\n",
       "      <td>8934.89</td>\n",
       "      <td>8874.82</td>\n",
       "      <td>8922.34</td>\n",
       "      <td>946.973024</td>\n",
       "    </tr>\n",
       "    <tr>\n",
       "      <th>2020-01-17 22:00:00</th>\n",
       "      <td>8922.43</td>\n",
       "      <td>8959.00</td>\n",
       "      <td>8901.00</td>\n",
       "      <td>8939.59</td>\n",
       "      <td>1760.365770</td>\n",
       "    </tr>\n",
       "    <tr>\n",
       "      <th>2020-01-17 23:00:00</th>\n",
       "      <td>8938.99</td>\n",
       "      <td>8961.60</td>\n",
       "      <td>8905.49</td>\n",
       "      <td>8913.28</td>\n",
       "      <td>1837.755667</td>\n",
       "    </tr>\n",
       "  </tbody>\n",
       "</table>\n",
       "<p>2025 rows × 5 columns</p>\n",
       "</div>"
      ],
      "text/plain": [
       "                        open     high      low    close       volume\n",
       "date                                                                \n",
       "2019-10-19 13:00:00  8039.23  8078.54  8003.11  8011.29  2567.885982\n",
       "2019-10-19 14:00:00  8012.87  8027.77  7993.64  8010.16  1023.034223\n",
       "2019-10-19 15:00:00  8010.16  8021.00  7975.66  7990.92  1019.426773\n",
       "2019-10-19 16:00:00  7993.26  7999.20  7937.69  7974.50  1499.435801\n",
       "2019-10-19 17:00:00  7972.63  7999.38  7962.03  7998.64   767.867665\n",
       "2019-10-19 18:00:00  7996.03  7999.34  7972.33  7976.16   676.884982\n",
       "2019-10-19 19:00:00  7975.77  7983.33  7958.13  7971.81   663.314219\n",
       "2019-10-19 20:00:00  7972.19  7978.52  7902.20  7940.81  1291.598333\n",
       "2019-10-19 21:00:00  7940.66  7960.00  7891.76  7944.55  1072.810254\n",
       "2019-10-19 22:00:00  7945.63  7949.09  7920.80  7937.76   633.079178\n",
       "2019-10-19 23:00:00  7937.78  7954.99  7926.17  7948.01   537.450950\n",
       "2019-10-20 00:00:00  7949.87  7953.21  7891.16  7917.55  1333.008698\n",
       "2019-10-20 01:00:00  7917.55  7927.36  7881.00  7904.64  1186.897622\n",
       "2019-10-20 02:00:00  7904.67  7924.99  7870.00  7895.79  1383.499055\n",
       "2019-10-20 03:00:00  7895.79  7918.02  7889.98  7901.68   761.650508\n",
       "2019-10-20 04:00:00  7902.09  7934.96  7899.14  7917.99   689.945640\n",
       "2019-10-20 05:00:00  7917.81  7926.50  7902.10  7912.11   461.714257\n",
       "2019-10-20 06:00:00  7910.87  7940.47  7902.00  7928.05   504.719646\n",
       "2019-10-20 07:00:00  7928.05  7935.94  7900.22  7905.17   751.587636\n",
       "2019-10-20 08:00:00  7907.14  7929.75  7883.00  7925.20   995.933510\n",
       "2019-10-20 09:00:00  7924.49  7985.00  7915.00  7944.93  1782.699277\n",
       "2019-10-20 10:00:00  7944.93  7961.00  7920.00  7929.70   905.539501\n",
       "2019-10-20 11:00:00  7929.95  7948.50  7925.85  7942.99   614.143683\n",
       "2019-10-20 12:00:00  7942.99  7990.00  7936.32  7950.06  1659.857866\n",
       "2019-10-20 13:00:00  7951.03  7978.00  7950.01  7957.34   958.977112\n",
       "2019-10-20 14:00:00  7957.23  8011.95  7951.95  8000.79  1972.863301\n",
       "2019-10-20 15:00:00  8001.10  8043.44  7982.31  8026.46  1881.276161\n",
       "2019-10-20 16:00:00  8026.47  8077.00  8006.45  8066.33  2508.980707\n",
       "2019-10-20 17:00:00  8065.51  8172.73  8046.43  8139.77  3427.912706\n",
       "2019-10-20 18:00:00  8139.87  8174.88  8126.65  8132.34  1728.774415\n",
       "...                      ...      ...      ...      ...          ...\n",
       "2020-01-10 18:00:00  7966.30  8113.53  7966.30  8022.16  6172.791013\n",
       "2020-01-16 19:00:00  8684.00  8718.00  8675.00  8705.00  1232.068523\n",
       "2020-01-16 20:00:00  8705.01  8750.00  8690.00  8744.00  1550.084023\n",
       "2020-01-16 21:00:00  8742.94  8757.00  8672.00  8691.15  2129.935623\n",
       "2020-01-16 22:00:00  8691.17  8743.21  8690.15  8720.38  1783.581937\n",
       "2020-01-16 23:00:00  8720.34  8748.00  8712.39  8720.01   860.060470\n",
       "2020-01-17 00:00:00  8720.15  8743.99  8672.44  8690.31  1988.852577\n",
       "2020-01-17 01:00:00  8690.25  8738.80  8677.01  8738.51  1156.787342\n",
       "2020-01-17 02:00:00  8738.80  8780.00  8718.16  8757.06  2083.041074\n",
       "2020-01-17 03:00:00  8757.29  8840.40  8751.05  8786.43  3103.062255\n",
       "2020-01-17 04:00:00  8786.43  8815.86  8760.00  8815.29  2088.680278\n",
       "2020-01-17 05:00:00  8815.27  8896.89  8791.06  8891.25  4726.039349\n",
       "2020-01-17 06:00:00  8891.25  8997.00  8835.75  8862.70  7987.080952\n",
       "2020-01-17 07:00:00  8862.70  8950.36  8843.01  8933.95  2782.157035\n",
       "2020-01-17 08:00:00  8935.54  8999.00  8899.26  8928.85  4796.986200\n",
       "2020-01-17 09:00:00  8927.71  8986.27  8924.30  8969.00  2514.231703\n",
       "2020-01-17 10:00:00  8969.36  9041.65  8880.50  8937.00  6163.066542\n",
       "2020-01-17 11:00:00  8937.00  8962.28  8890.97  8903.45  2483.889697\n",
       "2020-01-17 12:00:00  8903.53  8919.41  8765.00  8811.54  4987.553512\n",
       "2020-01-17 13:00:00  8808.17  8865.07  8800.00  8850.99  2011.840217\n",
       "2020-01-17 14:00:00  8851.00  8852.92  8769.42  8778.69  2562.245240\n",
       "2020-01-17 15:00:00  8778.69  8867.29  8774.00  8850.83  2041.345434\n",
       "2020-01-17 16:00:00  8851.39  8923.88  8837.97  8875.96  3259.996818\n",
       "2020-01-17 17:00:00  8875.96  8919.42  8855.81  8890.97  2119.032980\n",
       "2020-01-17 18:00:00  8890.04  8954.49  8882.59  8920.12  2285.881189\n",
       "2020-01-17 19:00:00  8920.50  8955.55  8813.00  8879.71  3260.055013\n",
       "2020-01-17 20:00:00  8879.63  8934.77  8861.66  8879.64  1950.817509\n",
       "2020-01-17 21:00:00  8879.74  8934.89  8874.82  8922.34   946.973024\n",
       "2020-01-17 22:00:00  8922.43  8959.00  8901.00  8939.59  1760.365770\n",
       "2020-01-17 23:00:00  8938.99  8961.60  8905.49  8913.28  1837.755667\n",
       "\n",
       "[2025 rows x 5 columns]"
      ]
     },
     "execution_count": 193,
     "metadata": {},
     "output_type": "execute_result"
    }
   ],
   "source": [
    "new_df.loc[new_df.index < '2020-01-18']"
   ]
  },
  {
   "cell_type": "code",
   "execution_count": 85,
   "metadata": {},
   "outputs": [
    {
     "data": {
      "image/png": "[encoded data removed]",
      "text/plain": [
       "<Figure size 1440x720 with 2 Axes>"
      ]
     },
     "metadata": {
      "needs_background": "light"
     },
     "output_type": "display_data"
    }
   ],
   "source": [
    "plt.figure(figsize=(20,10))\n",
    "ax1 = plt.subplot2grid((6, 1), (0, 0), rowspan=5, colspan=1)\n",
    "ax2 = plt.subplot2grid((6, 1), (5, 0), rowspan=1, colspan=1, sharex=ax1)\n",
    "\n",
    "ax1.plot(new_df.index, new_df['close'])\n",
    "#ax1.plot(new_df.index, new_df['100ma'])\n",
    "ax2.bar(new_df.index, new_df['volume'])\n",
    "\n",
    "plt.show()"
   ]
  },
  {
   "cell_type": "code",
   "execution_count": 86,
   "metadata": {},
   "outputs": [],
   "source": [
    "#df_ohlc = new_df['close'].resample('1d').ohlc()\n",
    "#df_ohlc"
   ]
  },
  {
   "cell_type": "code",
   "execution_count": null,
   "metadata": {},
   "outputs": [],
   "source": []
  },
  {
   "cell_type": "code",
   "execution_count": 87,
   "metadata": {},
   "outputs": [
    {
     "data": {
      "text/html": [
       "<div>\n",
       "<style scoped>\n",
       "    .dataframe tbody tr th:only-of-type {\n",
       "        vertical-align: middle;\n",
       "    }\n",
       "\n",
       "    .dataframe tbody tr th {\n",
       "        vertical-align: top;\n",
       "    }\n",
       "\n",
       "    .dataframe thead th {\n",
       "        text-align: right;\n",
       "    }\n",
       "</style>\n",
       "<table border=\"1\" class=\"dataframe\">\n",
       "  <thead>\n",
       "    <tr style=\"text-align: right;\">\n",
       "      <th></th>\n",
       "      <th>time</th>\n",
       "      <th>open</th>\n",
       "      <th>high</th>\n",
       "      <th>low</th>\n",
       "      <th>close</th>\n",
       "      <th>volume</th>\n",
       "    </tr>\n",
       "    <tr>\n",
       "      <th>date</th>\n",
       "      <th></th>\n",
       "      <th></th>\n",
       "      <th></th>\n",
       "      <th></th>\n",
       "      <th></th>\n",
       "      <th></th>\n",
       "    </tr>\n",
       "  </thead>\n",
       "  <tbody>\n",
       "    <tr>\n",
       "      <th>2019-10-19 13:00:00</th>\n",
       "      <td>1.571490e+12</td>\n",
       "      <td>8039.23</td>\n",
       "      <td>8078.54</td>\n",
       "      <td>8003.11</td>\n",
       "      <td>8011.29</td>\n",
       "      <td>2567.885982</td>\n",
       "    </tr>\n",
       "    <tr>\n",
       "      <th>2019-10-19 14:00:00</th>\n",
       "      <td>1.571494e+12</td>\n",
       "      <td>8012.87</td>\n",
       "      <td>8027.77</td>\n",
       "      <td>7993.64</td>\n",
       "      <td>8010.16</td>\n",
       "      <td>1023.034223</td>\n",
       "    </tr>\n",
       "    <tr>\n",
       "      <th>2019-10-19 15:00:00</th>\n",
       "      <td>1.571497e+12</td>\n",
       "      <td>8010.16</td>\n",
       "      <td>8021.00</td>\n",
       "      <td>7975.66</td>\n",
       "      <td>7990.92</td>\n",
       "      <td>1019.426773</td>\n",
       "    </tr>\n",
       "    <tr>\n",
       "      <th>2019-10-19 16:00:00</th>\n",
       "      <td>1.571501e+12</td>\n",
       "      <td>7993.26</td>\n",
       "      <td>7999.20</td>\n",
       "      <td>7937.69</td>\n",
       "      <td>7974.50</td>\n",
       "      <td>1499.435801</td>\n",
       "    </tr>\n",
       "    <tr>\n",
       "      <th>2019-10-19 17:00:00</th>\n",
       "      <td>1.571504e+12</td>\n",
       "      <td>7972.63</td>\n",
       "      <td>7999.38</td>\n",
       "      <td>7962.03</td>\n",
       "      <td>7998.64</td>\n",
       "      <td>767.867665</td>\n",
       "    </tr>\n",
       "  </tbody>\n",
       "</table>\n",
       "</div>"
      ],
      "text/plain": [
       "                             time     open     high      low    close  \\\n",
       "date                                                                    \n",
       "2019-10-19 13:00:00  1.571490e+12  8039.23  8078.54  8003.11  8011.29   \n",
       "2019-10-19 14:00:00  1.571494e+12  8012.87  8027.77  7993.64  8010.16   \n",
       "2019-10-19 15:00:00  1.571497e+12  8010.16  8021.00  7975.66  7990.92   \n",
       "2019-10-19 16:00:00  1.571501e+12  7993.26  7999.20  7937.69  7974.50   \n",
       "2019-10-19 17:00:00  1.571504e+12  7972.63  7999.38  7962.03  7998.64   \n",
       "\n",
       "                          volume  \n",
       "date                              \n",
       "2019-10-19 13:00:00  2567.885982  \n",
       "2019-10-19 14:00:00  1023.034223  \n",
       "2019-10-19 15:00:00  1019.426773  \n",
       "2019-10-19 16:00:00  1499.435801  \n",
       "2019-10-19 17:00:00   767.867665  "
      ]
     },
     "execution_count": 87,
     "metadata": {},
     "output_type": "execute_result"
    }
   ],
   "source": [
    "new_df.head()"
   ]
  },
  {
   "cell_type": "code",
   "execution_count": 88,
   "metadata": {},
   "outputs": [],
   "source": [
    "new_df.drop(columns='time', axis=1, inplace=True)"
   ]
  },
  {
   "cell_type": "code",
   "execution_count": 89,
   "metadata": {},
   "outputs": [
    {
     "data": {
      "text/html": [
       "<div>\n",
       "<style scoped>\n",
       "    .dataframe tbody tr th:only-of-type {\n",
       "        vertical-align: middle;\n",
       "    }\n",
       "\n",
       "    .dataframe tbody tr th {\n",
       "        vertical-align: top;\n",
       "    }\n",
       "\n",
       "    .dataframe thead th {\n",
       "        text-align: right;\n",
       "    }\n",
       "</style>\n",
       "<table border=\"1\" class=\"dataframe\">\n",
       "  <thead>\n",
       "    <tr style=\"text-align: right;\">\n",
       "      <th></th>\n",
       "      <th>open</th>\n",
       "      <th>high</th>\n",
       "      <th>low</th>\n",
       "      <th>close</th>\n",
       "      <th>volume</th>\n",
       "    </tr>\n",
       "    <tr>\n",
       "      <th>date</th>\n",
       "      <th></th>\n",
       "      <th></th>\n",
       "      <th></th>\n",
       "      <th></th>\n",
       "      <th></th>\n",
       "    </tr>\n",
       "  </thead>\n",
       "  <tbody>\n",
       "    <tr>\n",
       "      <th>2019-10-19 13:00:00</th>\n",
       "      <td>8039.23</td>\n",
       "      <td>8078.54</td>\n",
       "      <td>8003.11</td>\n",
       "      <td>8011.29</td>\n",
       "      <td>2567.885982</td>\n",
       "    </tr>\n",
       "    <tr>\n",
       "      <th>2019-10-19 14:00:00</th>\n",
       "      <td>8012.87</td>\n",
       "      <td>8027.77</td>\n",
       "      <td>7993.64</td>\n",
       "      <td>8010.16</td>\n",
       "      <td>1023.034223</td>\n",
       "    </tr>\n",
       "    <tr>\n",
       "      <th>2019-10-19 15:00:00</th>\n",
       "      <td>8010.16</td>\n",
       "      <td>8021.00</td>\n",
       "      <td>7975.66</td>\n",
       "      <td>7990.92</td>\n",
       "      <td>1019.426773</td>\n",
       "    </tr>\n",
       "    <tr>\n",
       "      <th>2019-10-19 16:00:00</th>\n",
       "      <td>7993.26</td>\n",
       "      <td>7999.20</td>\n",
       "      <td>7937.69</td>\n",
       "      <td>7974.50</td>\n",
       "      <td>1499.435801</td>\n",
       "    </tr>\n",
       "    <tr>\n",
       "      <th>2019-10-19 17:00:00</th>\n",
       "      <td>7972.63</td>\n",
       "      <td>7999.38</td>\n",
       "      <td>7962.03</td>\n",
       "      <td>7998.64</td>\n",
       "      <td>767.867665</td>\n",
       "    </tr>\n",
       "  </tbody>\n",
       "</table>\n",
       "</div>"
      ],
      "text/plain": [
       "                        open     high      low    close       volume\n",
       "date                                                                \n",
       "2019-10-19 13:00:00  8039.23  8078.54  8003.11  8011.29  2567.885982\n",
       "2019-10-19 14:00:00  8012.87  8027.77  7993.64  8010.16  1023.034223\n",
       "2019-10-19 15:00:00  8010.16  8021.00  7975.66  7990.92  1019.426773\n",
       "2019-10-19 16:00:00  7993.26  7999.20  7937.69  7974.50  1499.435801\n",
       "2019-10-19 17:00:00  7972.63  7999.38  7962.03  7998.64   767.867665"
      ]
     },
     "execution_count": 89,
     "metadata": {},
     "output_type": "execute_result"
    }
   ],
   "source": [
    "new_df.head()"
   ]
  },
  {
   "cell_type": "code",
   "execution_count": 90,
   "metadata": {},
   "outputs": [
    {
     "data": {
      "text/html": [
       "<div>\n",
       "<style scoped>\n",
       "    .dataframe tbody tr th:only-of-type {\n",
       "        vertical-align: middle;\n",
       "    }\n",
       "\n",
       "    .dataframe tbody tr th {\n",
       "        vertical-align: top;\n",
       "    }\n",
       "\n",
       "    .dataframe thead th {\n",
       "        text-align: right;\n",
       "    }\n",
       "</style>\n",
       "<table border=\"1\" class=\"dataframe\">\n",
       "  <thead>\n",
       "    <tr style=\"text-align: right;\">\n",
       "      <th></th>\n",
       "      <th>open</th>\n",
       "      <th>high</th>\n",
       "      <th>low</th>\n",
       "      <th>close</th>\n",
       "    </tr>\n",
       "    <tr>\n",
       "      <th>date</th>\n",
       "      <th></th>\n",
       "      <th></th>\n",
       "      <th></th>\n",
       "      <th></th>\n",
       "    </tr>\n",
       "  </thead>\n",
       "  <tbody>\n",
       "    <tr>\n",
       "      <th>2019-10-19</th>\n",
       "      <td>8011.29</td>\n",
       "      <td>8011.29</td>\n",
       "      <td>7937.76</td>\n",
       "      <td>7948.01</td>\n",
       "    </tr>\n",
       "    <tr>\n",
       "      <th>2019-10-20</th>\n",
       "      <td>7917.55</td>\n",
       "      <td>8235.00</td>\n",
       "      <td>7895.79</td>\n",
       "      <td>8223.35</td>\n",
       "    </tr>\n",
       "    <tr>\n",
       "      <th>2019-10-21</th>\n",
       "      <td>8199.23</td>\n",
       "      <td>8272.64</td>\n",
       "      <td>8168.42</td>\n",
       "      <td>8197.27</td>\n",
       "    </tr>\n",
       "    <tr>\n",
       "      <th>2019-10-22</th>\n",
       "      <td>8185.30</td>\n",
       "      <td>8276.16</td>\n",
       "      <td>8020.00</td>\n",
       "      <td>8020.00</td>\n",
       "    </tr>\n",
       "    <tr>\n",
       "      <th>2019-10-23</th>\n",
       "      <td>8029.13</td>\n",
       "      <td>8033.92</td>\n",
       "      <td>7416.89</td>\n",
       "      <td>7466.62</td>\n",
       "    </tr>\n",
       "  </tbody>\n",
       "</table>\n",
       "</div>"
      ],
      "text/plain": [
       "               open     high      low    close\n",
       "date                                          \n",
       "2019-10-19  8011.29  8011.29  7937.76  7948.01\n",
       "2019-10-20  7917.55  8235.00  7895.79  8223.35\n",
       "2019-10-21  8199.23  8272.64  8168.42  8197.27\n",
       "2019-10-22  8185.30  8276.16  8020.00  8020.00\n",
       "2019-10-23  8029.13  8033.92  7416.89  7466.62"
      ]
     },
     "execution_count": 90,
     "metadata": {},
     "output_type": "execute_result"
    }
   ],
   "source": [
    "df_ohlc = new_df['close'].resample('1d').ohlc()\n",
    "df_volume = new_df['volume'].resample('1d').sum()\n",
    "df_ohlc.head()"
   ]
  },
  {
   "cell_type": "code",
   "execution_count": 91,
   "metadata": {},
   "outputs": [
    {
     "data": {
      "text/html": [
       "<div>\n",
       "<style scoped>\n",
       "    .dataframe tbody tr th:only-of-type {\n",
       "        vertical-align: middle;\n",
       "    }\n",
       "\n",
       "    .dataframe tbody tr th {\n",
       "        vertical-align: top;\n",
       "    }\n",
       "\n",
       "    .dataframe thead th {\n",
       "        text-align: right;\n",
       "    }\n",
       "</style>\n",
       "<table border=\"1\" class=\"dataframe\">\n",
       "  <thead>\n",
       "    <tr style=\"text-align: right;\">\n",
       "      <th></th>\n",
       "      <th>open</th>\n",
       "      <th>high</th>\n",
       "      <th>low</th>\n",
       "      <th>close</th>\n",
       "    </tr>\n",
       "  </thead>\n",
       "  <tbody>\n",
       "    <tr>\n",
       "      <th>737351.0</th>\n",
       "      <td>8011.29</td>\n",
       "      <td>8011.29</td>\n",
       "      <td>7937.76</td>\n",
       "      <td>7948.01</td>\n",
       "    </tr>\n",
       "    <tr>\n",
       "      <th>737352.0</th>\n",
       "      <td>7917.55</td>\n",
       "      <td>8235.00</td>\n",
       "      <td>7895.79</td>\n",
       "      <td>8223.35</td>\n",
       "    </tr>\n",
       "    <tr>\n",
       "      <th>737353.0</th>\n",
       "      <td>8199.23</td>\n",
       "      <td>8272.64</td>\n",
       "      <td>8168.42</td>\n",
       "      <td>8197.27</td>\n",
       "    </tr>\n",
       "    <tr>\n",
       "      <th>737354.0</th>\n",
       "      <td>8185.30</td>\n",
       "      <td>8276.16</td>\n",
       "      <td>8020.00</td>\n",
       "      <td>8020.00</td>\n",
       "    </tr>\n",
       "    <tr>\n",
       "      <th>737355.0</th>\n",
       "      <td>8029.13</td>\n",
       "      <td>8033.92</td>\n",
       "      <td>7416.89</td>\n",
       "      <td>7466.62</td>\n",
       "    </tr>\n",
       "  </tbody>\n",
       "</table>\n",
       "</div>"
      ],
      "text/plain": [
       "             open     high      low    close\n",
       "737351.0  8011.29  8011.29  7937.76  7948.01\n",
       "737352.0  7917.55  8235.00  7895.79  8223.35\n",
       "737353.0  8199.23  8272.64  8168.42  8197.27\n",
       "737354.0  8185.30  8276.16  8020.00  8020.00\n",
       "737355.0  8029.13  8033.92  7416.89  7466.62"
      ]
     },
     "execution_count": 91,
     "metadata": {},
     "output_type": "execute_result"
    }
   ],
   "source": [
    "df_ohlc.index = df_ohlc.index.map(mdates.date2num)\n",
    "df_ohlc.head()"
   ]
  },
  {
   "cell_type": "code",
   "execution_count": 92,
   "metadata": {},
   "outputs": [
    {
     "data": {
      "text/html": [
       "<div>\n",
       "<style scoped>\n",
       "    .dataframe tbody tr th:only-of-type {\n",
       "        vertical-align: middle;\n",
       "    }\n",
       "\n",
       "    .dataframe tbody tr th {\n",
       "        vertical-align: top;\n",
       "    }\n",
       "\n",
       "    .dataframe thead th {\n",
       "        text-align: right;\n",
       "    }\n",
       "</style>\n",
       "<table border=\"1\" class=\"dataframe\">\n",
       "  <thead>\n",
       "    <tr style=\"text-align: right;\">\n",
       "      <th></th>\n",
       "      <th>index</th>\n",
       "      <th>open</th>\n",
       "      <th>high</th>\n",
       "      <th>low</th>\n",
       "      <th>close</th>\n",
       "    </tr>\n",
       "  </thead>\n",
       "  <tbody>\n",
       "    <tr>\n",
       "      <th>0</th>\n",
       "      <td>737351.0</td>\n",
       "      <td>8011.29</td>\n",
       "      <td>8011.29</td>\n",
       "      <td>7937.76</td>\n",
       "      <td>7948.01</td>\n",
       "    </tr>\n",
       "    <tr>\n",
       "      <th>1</th>\n",
       "      <td>737352.0</td>\n",
       "      <td>7917.55</td>\n",
       "      <td>8235.00</td>\n",
       "      <td>7895.79</td>\n",
       "      <td>8223.35</td>\n",
       "    </tr>\n",
       "    <tr>\n",
       "      <th>2</th>\n",
       "      <td>737353.0</td>\n",
       "      <td>8199.23</td>\n",
       "      <td>8272.64</td>\n",
       "      <td>8168.42</td>\n",
       "      <td>8197.27</td>\n",
       "    </tr>\n",
       "    <tr>\n",
       "      <th>3</th>\n",
       "      <td>737354.0</td>\n",
       "      <td>8185.30</td>\n",
       "      <td>8276.16</td>\n",
       "      <td>8020.00</td>\n",
       "      <td>8020.00</td>\n",
       "    </tr>\n",
       "    <tr>\n",
       "      <th>4</th>\n",
       "      <td>737355.0</td>\n",
       "      <td>8029.13</td>\n",
       "      <td>8033.92</td>\n",
       "      <td>7416.89</td>\n",
       "      <td>7466.62</td>\n",
       "    </tr>\n",
       "  </tbody>\n",
       "</table>\n",
       "</div>"
      ],
      "text/plain": [
       "      index     open     high      low    close\n",
       "0  737351.0  8011.29  8011.29  7937.76  7948.01\n",
       "1  737352.0  7917.55  8235.00  7895.79  8223.35\n",
       "2  737353.0  8199.23  8272.64  8168.42  8197.27\n",
       "3  737354.0  8185.30  8276.16  8020.00  8020.00\n",
       "4  737355.0  8029.13  8033.92  7416.89  7466.62"
      ]
     },
     "execution_count": 92,
     "metadata": {},
     "output_type": "execute_result"
    }
   ],
   "source": [
    "df_ohlc.reset_index(inplace=True)\n",
    "df_ohlc.head()"
   ]
  },
  {
   "cell_type": "code",
   "execution_count": 93,
   "metadata": {},
   "outputs": [
    {
     "data": {
      "text/html": [
       "<div>\n",
       "<style scoped>\n",
       "    .dataframe tbody tr th:only-of-type {\n",
       "        vertical-align: middle;\n",
       "    }\n",
       "\n",
       "    .dataframe tbody tr th {\n",
       "        vertical-align: top;\n",
       "    }\n",
       "\n",
       "    .dataframe thead tr th {\n",
       "        text-align: left;\n",
       "    }\n",
       "</style>\n",
       "<table border=\"1\" class=\"dataframe\">\n",
       "  <thead>\n",
       "    <tr>\n",
       "      <th></th>\n",
       "      <th>Date</th>\n",
       "      <th>Open</th>\n",
       "      <th>High</th>\n",
       "      <th>Low</th>\n",
       "      <th>Close</th>\n",
       "    </tr>\n",
       "  </thead>\n",
       "  <tbody>\n",
       "    <tr>\n",
       "      <th>0</th>\n",
       "      <td>737351.0</td>\n",
       "      <td>8011.29</td>\n",
       "      <td>8011.29</td>\n",
       "      <td>7937.76</td>\n",
       "      <td>7948.01</td>\n",
       "    </tr>\n",
       "    <tr>\n",
       "      <th>1</th>\n",
       "      <td>737352.0</td>\n",
       "      <td>7917.55</td>\n",
       "      <td>8235.00</td>\n",
       "      <td>7895.79</td>\n",
       "      <td>8223.35</td>\n",
       "    </tr>\n",
       "    <tr>\n",
       "      <th>2</th>\n",
       "      <td>737353.0</td>\n",
       "      <td>8199.23</td>\n",
       "      <td>8272.64</td>\n",
       "      <td>8168.42</td>\n",
       "      <td>8197.27</td>\n",
       "    </tr>\n",
       "    <tr>\n",
       "      <th>3</th>\n",
       "      <td>737354.0</td>\n",
       "      <td>8185.30</td>\n",
       "      <td>8276.16</td>\n",
       "      <td>8020.00</td>\n",
       "      <td>8020.00</td>\n",
       "    </tr>\n",
       "    <tr>\n",
       "      <th>4</th>\n",
       "      <td>737355.0</td>\n",
       "      <td>8029.13</td>\n",
       "      <td>8033.92</td>\n",
       "      <td>7416.89</td>\n",
       "      <td>7466.62</td>\n",
       "    </tr>\n",
       "  </tbody>\n",
       "</table>\n",
       "</div>"
      ],
      "text/plain": [
       "       Date     Open     High      Low    Close\n",
       "0  737351.0  8011.29  8011.29  7937.76  7948.01\n",
       "1  737352.0  7917.55  8235.00  7895.79  8223.35\n",
       "2  737353.0  8199.23  8272.64  8168.42  8197.27\n",
       "3  737354.0  8185.30  8276.16  8020.00  8020.00\n",
       "4  737355.0  8029.13  8033.92  7416.89  7466.62"
      ]
     },
     "execution_count": 93,
     "metadata": {},
     "output_type": "execute_result"
    }
   ],
   "source": [
    "df_ohlc.columns = [['Date', 'Open', 'High', 'Low', 'Close']]\n",
    "df_ohlc.head()"
   ]
  },
  {
   "cell_type": "code",
   "execution_count": 94,
   "metadata": {},
   "outputs": [],
   "source": [
    "#df_ohlc_new = df_ohlc[['Open', 'High', 'Low', 'Close', 'Date']]\n",
    "#df_ohlc_new.head()"
   ]
  },
  {
   "cell_type": "code",
   "execution_count": 95,
   "metadata": {},
   "outputs": [],
   "source": [
    "import mpl_finance"
   ]
  },
  {
   "cell_type": "code",
   "execution_count": 111,
   "metadata": {},
   "outputs": [
    {
     "data": {
      "image/png": "[encoded data removed]",
      "text/plain": [
       "<Figure size 1440x720 with 1 Axes>"
      ]
     },
     "metadata": {},
     "output_type": "display_data"
    }
   ],
   "source": [
    "plt.figure(figsize=(20,10))\n",
    "ax = plt.subplot()\n",
    "candlestick_ohlc(ax, df_ohlc.values, width=2, colorup='g', colordown='r')\n",
    "ax.grid(True)\n",
    "ax.set_axisbelow(True)\n",
    "ax.set_title('BTC Share Price', color='white', fontsize=27)\n",
    "ax.set_facecolor('black')\n",
    "ax.figure.set_facecolor('#121212')\n",
    "ax.tick_params(axis='x', colors='white')\n",
    "ax.tick_params(axis='y', colors='white')\n",
    "plt.xticks(fontsize=15)\n",
    "plt.yticks(fontsize=15)\n",
    "ax.xaxis_date()"
   ]
  },
  {
   "cell_type": "code",
   "execution_count": 164,
   "metadata": {},
   "outputs": [
    {
     "data": {
      "image/png": "[encoded data removed]",
      "text/plain": [
       "<Figure size 1440x720 with 2 Axes>"
      ]
     },
     "metadata": {},
     "output_type": "display_data"
    }
   ],
   "source": [
    "plt.figure(figsize=(20,10))\n",
    "ax1 = plt.subplot2grid((6, 1), (0, 0), rowspan=5, colspan=1)\n",
    "ax2 = plt.subplot2grid((6, 1), (5, 0), rowspan=1, colspan=1, sharex=ax1)\n",
    "\n",
    "\n",
    "\n",
    "candlestick_ohlc(ax1, df_ohlc.values, width=2, colorup='g', colordown='r')\n",
    "ax1.grid(True)\n",
    "ax1.set_axisbelow(True)\n",
    "ax1.set_title('BTC Share Price', color='white', fontsize=27)\n",
    "ax1.set_facecolor('black')\n",
    "ax1.figure.set_facecolor('#121212')\n",
    "ax1.tick_params(axis='x', colors='white')\n",
    "ax1.tick_params(axis='y', colors='white')\n",
    "ax1.axes.get_xaxis().set_visible(False)\n",
    "ax1.set_ylabel('Price', fontsize = 20) \n",
    "\n",
    "ax1.plot(new_df['close'].rolling(window=100, min_periods=0).mean(), color='b',  label='100MA')\n",
    "ax1.legend(loc=\"upper right\", fontsize=15)\n",
    "\n",
    "plt.xticks(rotation=45,fontsize=15)\n",
    "plt.yticks(fontsize=15)\n",
    "ax1.xaxis_date()\n",
    "\n",
    "\n",
    "ax2.fill_between(df_volume.index.map(mdates.date2num), df_volume.values, 0, color = 'b',  label='Volume')\n",
    "ax2.set_ylabel('Volume', fontsize = 20) \n",
    "ax2.tick_params(axis='x', colors='white')\n",
    "ax2.tick_params(axis='y', colors='white')\n",
    "ax2.grid(True)\n",
    "ax2.set_facecolor('black')\n",
    "ax2.legend(loc=\"upper right\", fontsize=15)\n",
    "plt.legend()\n",
    "plt.show()\n"
   ]
  },
  {
   "cell_type": "code",
   "execution_count": null,
   "metadata": {},
   "outputs": [],
   "source": []
  },
  {
   "cell_type": "code",
   "execution_count": 97,
   "metadata": {},
   "outputs": [],
   "source": [
    "#mpf.plot(df_ohlc,type='candle')"
   ]
  },
  {
   "cell_type": "code",
   "execution_count": 98,
   "metadata": {},
   "outputs": [
    {
     "data": {
      "text/plain": [
       "(111,)"
      ]
     },
     "execution_count": 98,
     "metadata": {},
     "output_type": "execute_result"
    }
   ],
   "source": [
    "df_volume.shape"
   ]
  },
  {
   "cell_type": "code",
   "execution_count": 99,
   "metadata": {},
   "outputs": [
    {
     "data": {
      "text/plain": [
       "(111, 5)"
      ]
     },
     "execution_count": 99,
     "metadata": {},
     "output_type": "execute_result"
    }
   ],
   "source": [
    "df_ohlc.shape"
   ]
  },
  {
   "cell_type": "code",
   "execution_count": 100,
   "metadata": {},
   "outputs": [],
   "source": [
    "#df_ohlc.index = df_ohlc.index.map(mdates.date2num)\n",
    "#df_ohlc.head()"
   ]
  },
  {
   "cell_type": "code",
   "execution_count": 101,
   "metadata": {},
   "outputs": [
    {
     "data": {
      "text/html": [
       "<div>\n",
       "<style scoped>\n",
       "    .dataframe tbody tr th:only-of-type {\n",
       "        vertical-align: middle;\n",
       "    }\n",
       "\n",
       "    .dataframe tbody tr th {\n",
       "        vertical-align: top;\n",
       "    }\n",
       "\n",
       "    .dataframe thead tr th {\n",
       "        text-align: left;\n",
       "    }\n",
       "\n",
       "    .dataframe thead tr:last-of-type th {\n",
       "        text-align: right;\n",
       "    }\n",
       "</style>\n",
       "<table border=\"1\" class=\"dataframe\">\n",
       "  <thead>\n",
       "    <tr>\n",
       "      <th></th>\n",
       "      <th>Date</th>\n",
       "      <th>Open</th>\n",
       "      <th>High</th>\n",
       "      <th>Low</th>\n",
       "      <th>Close</th>\n",
       "    </tr>\n",
       "    <tr>\n",
       "      <th>date</th>\n",
       "      <th></th>\n",
       "      <th></th>\n",
       "      <th></th>\n",
       "      <th></th>\n",
       "      <th></th>\n",
       "    </tr>\n",
       "  </thead>\n",
       "  <tbody>\n",
       "    <tr>\n",
       "      <th>0</th>\n",
       "      <td>737351.0</td>\n",
       "      <td>8011.29</td>\n",
       "      <td>8011.29</td>\n",
       "      <td>7937.76</td>\n",
       "      <td>7948.01</td>\n",
       "    </tr>\n",
       "    <tr>\n",
       "      <th>1</th>\n",
       "      <td>737352.0</td>\n",
       "      <td>7917.55</td>\n",
       "      <td>8235.00</td>\n",
       "      <td>7895.79</td>\n",
       "      <td>8223.35</td>\n",
       "    </tr>\n",
       "    <tr>\n",
       "      <th>2</th>\n",
       "      <td>737353.0</td>\n",
       "      <td>8199.23</td>\n",
       "      <td>8272.64</td>\n",
       "      <td>8168.42</td>\n",
       "      <td>8197.27</td>\n",
       "    </tr>\n",
       "    <tr>\n",
       "      <th>3</th>\n",
       "      <td>737354.0</td>\n",
       "      <td>8185.30</td>\n",
       "      <td>8276.16</td>\n",
       "      <td>8020.00</td>\n",
       "      <td>8020.00</td>\n",
       "    </tr>\n",
       "    <tr>\n",
       "      <th>4</th>\n",
       "      <td>737355.0</td>\n",
       "      <td>8029.13</td>\n",
       "      <td>8033.92</td>\n",
       "      <td>7416.89</td>\n",
       "      <td>7466.62</td>\n",
       "    </tr>\n",
       "  </tbody>\n",
       "</table>\n",
       "</div>"
      ],
      "text/plain": [
       "          Date     Open     High      Low    Close\n",
       "date                                              \n",
       "0     737351.0  8011.29  8011.29  7937.76  7948.01\n",
       "1     737352.0  7917.55  8235.00  7895.79  8223.35\n",
       "2     737353.0  8199.23  8272.64  8168.42  8197.27\n",
       "3     737354.0  8185.30  8276.16  8020.00  8020.00\n",
       "4     737355.0  8029.13  8033.92  7416.89  7466.62"
      ]
     },
     "execution_count": 101,
     "metadata": {},
     "output_type": "execute_result"
    }
   ],
   "source": [
    "df_ohlc.index.name = 'date'\n",
    "df_ohlc.head()"
   ]
  },
  {
   "cell_type": "code",
   "execution_count": 102,
   "metadata": {},
   "outputs": [
    {
     "ename": "AttributeError",
     "evalue": "module 'mplfinance' has no attribute 'candlestick_ohlc'",
     "output_type": "error",
     "traceback": [
      "\u001b[1;31m---------------------------------------------------------------------------\u001b[0m",
      "\u001b[1;31mAttributeError\u001b[0m                            Traceback (most recent call last)",
      "\u001b[1;32m<ipython-input-102-52c8dc5a3fb9>\u001b[0m in \u001b[0;36m<module>\u001b[1;34m()\u001b[0m\n\u001b[1;32m----> 1\u001b[1;33m \u001b[0mmpf\u001b[0m\u001b[1;33m.\u001b[0m\u001b[0mcandlestick_ohlc\u001b[0m\u001b[1;33m(\u001b[0m\u001b[0ma\u001b[0m\u001b[1;33m)\u001b[0m\u001b[1;33m\u001b[0m\u001b[0m\n\u001b[0m",
      "\u001b[1;31mAttributeError\u001b[0m: module 'mplfinance' has no attribute 'candlestick_ohlc'"
     ]
    }
   ],
   "source": [
    "mpf.candlestick_ohlc(a)"
   ]
  },
  {
   "cell_type": "code",
   "execution_count": null,
   "metadata": {},
   "outputs": [],
   "source": [
    "mpf.plot(new_df,type='candle')"
   ]
  },
  {
   "cell_type": "code",
   "execution_count": null,
   "metadata": {},
   "outputs": [],
   "source": []
  },
  {
   "cell_type": "code",
   "execution_count": null,
   "metadata": {},
   "outputs": [],
   "source": []
  }
 ],
 "metadata": {
  "kernelspec": {
   "display_name": "Python [conda env:learn-env] *",
   "language": "python",
   "name": "conda-env-learn-env-py"
  },
  "language_info": {
   "codemirror_mode": {
    "name": "ipython",
    "version": 3
   },
   "file_extension": ".py",
   "mimetype": "text/x-python",
   "name": "python",
   "nbconvert_exporter": "python",
   "pygments_lexer": "ipython3",
   "version": "3.6.6"
  }
 },
 "nbformat": 4,
 "nbformat_minor": 2
}
